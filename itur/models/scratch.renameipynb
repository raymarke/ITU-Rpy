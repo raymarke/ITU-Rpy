{
 "cells": [
  {
   "cell_type": "code",
   "execution_count": 4,
   "metadata": {},
   "outputs": [
    {
     "name": "stdout",
     "output_type": "stream",
     "text": [
      "R840-9\n",
      "First few rows of the DataFrame:\n",
      "   0     1     2     3     4     5     6     7     8     9     ...  1431  \\\n",
      "0   0.0   0.0   0.0   0.0   0.0   0.0   0.0   0.0   0.0   0.0  ...   0.0   \n",
      "1   0.0   0.0   0.0   0.0   0.0   0.0   0.0   0.0   0.0   0.0  ...   0.0   \n",
      "2   0.0   0.0   0.0   0.0   0.0   0.0   0.0   0.0   0.0   0.0  ...   0.0   \n",
      "3   0.0   0.0   0.0   0.0   0.0   0.0   0.0   0.0   0.0   0.0  ...   0.0   \n",
      "4   0.0   0.0   0.0   0.0   0.0   0.0   0.0   0.0   0.0   0.0  ...   0.0   \n",
      "\n",
      "   1432  1433  1434  1435  1436  1437  1438  1439  1440  \n",
      "0   0.0   0.0   0.0   0.0   0.0   0.0   0.0   0.0   0.0  \n",
      "1   0.0   0.0   0.0   0.0   0.0   0.0   0.0   0.0   0.0  \n",
      "2   0.0   0.0   0.0   0.0   0.0   0.0   0.0   0.0   0.0  \n",
      "3   0.0   0.0   0.0   0.0   0.0   0.0   0.0   0.0   0.0  \n",
      "4   0.0   0.0   0.0   0.0   0.0   0.0   0.0   0.0   0.0  \n",
      "\n",
      "[5 rows x 1441 columns]\n",
      "\n",
      "\n",
      "DataFrame Information:\n",
      "<class 'pandas.core.frame.DataFrame'>\n",
      "RangeIndex: 721 entries, 0 to 720\n",
      "Columns: 1441 entries, 0 to 1440\n",
      "dtypes: float64(1441)\n",
      "memory usage: 7.9 MB\n",
      "\n",
      "\n",
      "DataFrame Statistics:\n",
      "        0      1      2      3      4      5      6      7      8      9     \\\n",
      "count  721.0  721.0  721.0  721.0  721.0  721.0  721.0  721.0  721.0  721.0   \n",
      "mean     0.0    0.0    0.0    0.0    0.0    0.0    0.0    0.0    0.0    0.0   \n",
      "std      0.0    0.0    0.0    0.0    0.0    0.0    0.0    0.0    0.0    0.0   \n",
      "min      0.0    0.0    0.0    0.0    0.0    0.0    0.0    0.0    0.0    0.0   \n",
      "25%      0.0    0.0    0.0    0.0    0.0    0.0    0.0    0.0    0.0    0.0   \n",
      "50%      0.0    0.0    0.0    0.0    0.0    0.0    0.0    0.0    0.0    0.0   \n",
      "75%      0.0    0.0    0.0    0.0    0.0    0.0    0.0    0.0    0.0    0.0   \n",
      "max      0.0    0.0    0.0    0.0    0.0    0.0    0.0    0.0    0.0    0.0   \n",
      "\n",
      "       ...   1431   1432        1433        1434   1435   1436   1437   1438  \\\n",
      "count  ...  721.0  721.0  721.000000  721.000000  721.0  721.0  721.0  721.0   \n",
      "mean   ...    0.0    0.0    0.000036    0.000032    0.0    0.0    0.0    0.0   \n",
      "std    ...    0.0    0.0    0.000686    0.000606    0.0    0.0    0.0    0.0   \n",
      "min    ...    0.0    0.0    0.000000    0.000000    0.0    0.0    0.0    0.0   \n",
      "25%    ...    0.0    0.0    0.000000    0.000000    0.0    0.0    0.0    0.0   \n",
      "50%    ...    0.0    0.0    0.000000    0.000000    0.0    0.0    0.0    0.0   \n",
      "75%    ...    0.0    0.0    0.000000    0.000000    0.0    0.0    0.0    0.0   \n",
      "max    ...    0.0    0.0    0.014000    0.012000    0.0    0.0    0.0    0.0   \n",
      "\n",
      "        1439   1440  \n",
      "count  721.0  721.0  \n",
      "mean     0.0    0.0  \n",
      "std      0.0    0.0  \n",
      "min      0.0    0.0  \n",
      "25%      0.0    0.0  \n",
      "50%      0.0    0.0  \n",
      "75%      0.0    0.0  \n",
      "max      0.0    0.0  \n",
      "\n",
      "[8 rows x 1441 columns]\n"
     ]
    }
   ],
   "source": [
    "import pandas as pd\n",
    "\n",
    "def display_txt_file_info(file_path):\n",
    "    # Read the .txt file into a pandas DataFrame\n",
    "    try:\n",
    "        # df = pd.read_csv(file_path, delimiter='\\t', header=None)  # Adjust the delimiter if needed (e.g., ',' for CSV)\n",
    "        df = pd.read_csv(file_path, delimiter=' ', lineterminator='\\n', header=None)  # Adjust the delimiter if needed (e.g., ',' for CSV)\n",
    "        \n",
    "        # Display the first few rows of the DataFrame\n",
    "        print(\"First few rows of the DataFrame:\")\n",
    "        print(df.head())\n",
    "        print(\"\\n\")\n",
    "        \n",
    "        # Display basic information about the DataFrame\n",
    "        print(\"DataFrame Information:\")\n",
    "        df.info()\n",
    "        print(\"\\n\")\n",
    "        \n",
    "        # Display basic statistics about the DataFrame\n",
    "        print(\"DataFrame Statistics:\")\n",
    "        print(df.describe())\n",
    "        return df\n",
    "    except Exception as e:\n",
    "        print(f\"An error occurred: {e}\")\n",
    "    \n",
    "if __name__ == \"__main__\":\n",
    "    # Replace 'your_file.txt' with the path to your actual .txt file\n",
    "    # file_path = \"C:\\\\Users\\\\rayma\\\\Downloads\\\\ITUR 840-9\\\\R-REC-P.840-8-201908-S!!ZIP-E\\\\P_840_Maps_annual\\\\Lred Annual Maps\\\\Lred_95_v4.txt\"\n",
    "    # print('R840-8')\n",
    "    # df_8 = display_txt_file_info(file_path)\n",
    "    file_path = \"C:\\\\Users\\\\rayma\\\\Downloads\\\\ITUR 840-9\\\\R-REC-P.840Part01-0-202308-I!!ZIP-E\\\\L_95.TXT\"\n",
    "    print('R840-9')\n",
    "    df_9 = display_txt_file_info(file_path)\n",
    "    df_9.shape\n",
    "    df_9.to_excel('R840-9.xlsx')\n",
    "    \n"
   ]
  },
  {
   "cell_type": "code",
   "execution_count": 2,
   "metadata": {},
   "outputs": [
    {
     "data": {
      "text/plain": [
       "(722, 1441)"
      ]
     },
     "execution_count": 2,
     "metadata": {},
     "output_type": "execute_result"
    }
   ],
   "source": [
    "df_9.shape"
   ]
  },
  {
   "cell_type": "code",
   "execution_count": 8,
   "metadata": {},
   "outputs": [
    {
     "name": "stdout",
     "output_type": "stream",
     "text": [
      "R840-8\n",
      "First few rows of the DataFrame:\n",
      "   0    1    2    3    4    5    6    7    8    9    ...  311  312  313  314  \\\n",
      "0  0.0  0.0  0.0  0.0  0.0  0.0  0.0  0.0  0.0  0.0  ...  0.0  0.0  0.0  0.0   \n",
      "1  0.0  0.0  0.0  0.0  0.0  0.0  0.0  0.0  0.0  0.0  ...  NaN  NaN  NaN  NaN   \n",
      "2  0.0  0.0  0.0  0.0  0.0  0.0  0.0  0.0  0.0  0.0  ...  0.0  0.0  0.0  0.0   \n",
      "3  0.0  0.0  0.0  0.0  0.0  0.0  0.0  0.0  0.0  0.0  ...  0.0  0.0  0.0  0.0   \n",
      "4  0.0  0.0  0.0  0.0  0.0  0.0  0.0  0.0  0.0  0.0  ...  0.0  0.0  0.0  0.0   \n",
      "\n",
      "   315  316  317  318  319  320  \n",
      "0  0.0  0.0  0.0  0.0  0.0  0.0  \n",
      "1  NaN  NaN  NaN  NaN  NaN  0.0  \n",
      "2  0.0  0.0  0.0  0.0  0.0  0.0  \n",
      "3  0.0  0.0  0.0  0.0  0.0  0.0  \n",
      "4  0.0  0.0  0.0  0.0  0.0  0.0  \n",
      "\n",
      "[5 rows x 321 columns]\n",
      "\n",
      "\n",
      "DataFrame Information:\n",
      "<class 'pandas.core.frame.DataFrame'>\n",
      "RangeIndex: 161 entries, 0 to 160\n",
      "Columns: 321 entries, 0 to 320\n",
      "dtypes: float64(321)\n",
      "memory usage: 403.9 KB\n",
      "\n",
      "\n",
      "DataFrame Statistics:\n"
     ]
    },
    {
     "name": "stderr",
     "output_type": "stream",
     "text": [
      "C:\\Users\\rayma\\AppData\\Local\\Temp\\ipykernel_28180\\3216204397.py:8: FutureWarning: The 'delim_whitespace' keyword in pd.read_csv is deprecated and will be removed in a future version. Use ``sep='\\s+'`` instead\n",
      "  df = pd.read_csv(file_path,delim_whitespace=True, lineterminator = '\\n', header = None)\n"
     ]
    },
    {
     "name": "stdout",
     "output_type": "stream",
     "text": [
      "         0      1             2      3             4             5    \\\n",
      "count  161.0  161.0  1.610000e+02  161.0  1.610000e+02  1.610000e+02   \n",
      "mean     0.0    0.0  3.934991e-08    0.0  3.742228e-07  3.326402e-09   \n",
      "std      0.0    0.0  4.992944e-07    0.0  3.525467e-06  3.885506e-08   \n",
      "min      0.0    0.0  0.000000e+00    0.0  0.000000e+00  0.000000e+00   \n",
      "25%      0.0    0.0  0.000000e+00    0.0  0.000000e+00  0.000000e+00   \n",
      "50%      0.0    0.0  0.000000e+00    0.0  0.000000e+00  0.000000e+00   \n",
      "75%      0.0    0.0  0.000000e+00    0.0  0.000000e+00  0.000000e+00   \n",
      "max      0.0    0.0  6.335336e-06    0.0  4.174342e-05  4.913024e-07   \n",
      "\n",
      "              6             7           8           9    ...    311    312  \\\n",
      "count  161.000000  1.610000e+02  161.000000  161.000000  ...  160.0  160.0   \n",
      "mean     0.000003  1.126393e-08    0.000002    0.000046  ...    0.0    0.0   \n",
      "std      0.000022  1.429233e-07    0.000024    0.000298  ...    0.0    0.0   \n",
      "min      0.000000  0.000000e+00    0.000000    0.000000  ...    0.0    0.0   \n",
      "25%      0.000000  0.000000e+00    0.000000    0.000000  ...    0.0    0.0   \n",
      "50%      0.000000  0.000000e+00    0.000000    0.000000  ...    0.0    0.0   \n",
      "75%      0.000000  0.000000e+00    0.000000    0.000000  ...    0.0    0.0   \n",
      "max      0.000210  1.813493e-06    0.000305    0.002294  ...    0.0    0.0   \n",
      "\n",
      "         313    314    315    316    317    318    319    320  \n",
      "count  160.0  160.0  160.0  160.0  160.0  160.0  160.0  161.0  \n",
      "mean     0.0    0.0    0.0    0.0    0.0    0.0    0.0    0.0  \n",
      "std      0.0    0.0    0.0    0.0    0.0    0.0    0.0    0.0  \n",
      "min      0.0    0.0    0.0    0.0    0.0    0.0    0.0    0.0  \n",
      "25%      0.0    0.0    0.0    0.0    0.0    0.0    0.0    0.0  \n",
      "50%      0.0    0.0    0.0    0.0    0.0    0.0    0.0    0.0  \n",
      "75%      0.0    0.0    0.0    0.0    0.0    0.0    0.0    0.0  \n",
      "max      0.0    0.0    0.0    0.0    0.0    0.0    0.0    0.0  \n",
      "\n",
      "[8 rows x 321 columns]\n",
      "(161, 321)\n"
     ]
    }
   ],
   "source": [
    "import pandas as pd\n",
    "\n",
    "def display_txt_file_info(file_path):\n",
    "    # Read the .txt file into a pandas DataFrame\n",
    "    try:\n",
    "        # df = pd.read_csv(file_path, delimiter='\\t', header=None)  # Adjust the delimiter if needed (e.g., ',' for CSV)\n",
    "        # df = pd.read_csv(file_path, delimiter=' ', lineterminator='\\n')  # Adjust the delimiter if needed (e.g., ',' for CSV)\n",
    "        df = pd.read_csv(file_path,delim_whitespace=True, lineterminator = '\\n', header = None)\n",
    "        # Display the first few rows of the DataFrame\n",
    "        print(\"First few rows of the DataFrame:\")\n",
    "        print(df.head())\n",
    "        print(\"\\n\")\n",
    "        \n",
    "        # Display basic information about the DataFrame\n",
    "        print(\"DataFrame Information:\")\n",
    "        df.info()\n",
    "        print(\"\\n\")\n",
    "        \n",
    "        # Display basic statistics about the DataFrame\n",
    "        print(\"DataFrame Statistics:\")\n",
    "        print(df.describe())\n",
    "        return df\n",
    "    except Exception as e:\n",
    "        print(f\"An error occurred: {e}\")\n",
    "    \n",
    "if __name__ == \"__main__\":\n",
    "    # Replace 'your_file.txt' with the path to your actual .txt file\n",
    "    file_path = \"C:\\\\Users\\\\rayma\\\\Downloads\\\\ITUR 840-9\\\\R-REC-P.840-8-201908-S!!ZIP-E\\\\P_840_Maps_annual\\\\Lred Annual Maps\\\\Lred_95_v4.txt\"\n",
    "    print('R840-8')\n",
    "    df_8 = display_txt_file_info(file_path)\n",
    "    df_8.to_excel('R840-8.xlsx', index=False, engine='openpyxl')\n",
    "    print(df_8.shape)\n",
    "\n",
    "    "
   ]
  },
  {
   "cell_type": "code",
   "execution_count": null,
   "metadata": {},
   "outputs": [],
   "source": []
  },
  {
   "cell_type": "code",
   "execution_count": 35,
   "metadata": {},
   "outputs": [
    {
     "ename": "ValueError",
     "evalue": "operands could not be broadcast together with shapes (0,) (1440,) ",
     "output_type": "error",
     "traceback": [
      "\u001b[1;31m---------------------------------------------------------------------------\u001b[0m",
      "\u001b[1;31mValueError\u001b[0m                                Traceback (most recent call last)",
      "Cell \u001b[1;32mIn[35], line 6\u001b[0m\n\u001b[0;32m      4\u001b[0m lon_space \u001b[38;5;241m=\u001b[39m \u001b[38;5;28mint\u001b[39m(\u001b[38;5;241m360\u001b[39m\u001b[38;5;241m/\u001b[39m\u001b[38;5;241m0.25\u001b[39m)\n\u001b[0;32m      5\u001b[0m headerline \u001b[38;5;241m=\u001b[39m np\u001b[38;5;241m.\u001b[39mlinspace(\u001b[38;5;241m-\u001b[39m\u001b[38;5;241m90\u001b[39m,\u001b[38;5;241m90\u001b[39m,lat_space)\n\u001b[1;32m----> 6\u001b[0m firstrow \u001b[38;5;241m=\u001b[39m [] \u001b[38;5;241m+\u001b[39m np\u001b[38;5;241m.\u001b[39mlinspace(\u001b[38;5;241m-\u001b[39m\u001b[38;5;241m180\u001b[39m, \u001b[38;5;241m180\u001b[39m, lon_space)\n\u001b[0;32m      7\u001b[0m \u001b[38;5;28mprint\u001b[39m(firstrow)\n",
      "\u001b[1;31mValueError\u001b[0m: operands could not be broadcast together with shapes (0,) (1440,) "
     ]
    }
   ],
   "source": [
    "import numpy as np\n",
    "resolution = 0.25\n",
    "lat_space = int(180/0.25)\n",
    "lon_space = int(360/0.25)\n",
    "headerline = np.linspace(-90,90,lat_space)\n",
    "firstrow = np.linspace(-180, 180, lon_space)\n",
    "print(firstrow)"
   ]
  },
  {
   "cell_type": "code",
   "execution_count": 11,
   "metadata": {},
   "outputs": [
    {
     "data": {
      "image/png": "[encoded data removed]",
      "text/plain": [
       "<Figure size 640x480 with 1 Axes>"
      ]
     },
     "metadata": {},
     "output_type": "display_data"
    }
   ],
   "source": [
    "import matplotlib.pyplot as plt\n",
    "# print(df_9.to_numpy())\n",
    "plt.imshow(df_9.astype(float).to_numpy(), cmap='hot', interpolation='nearest')\n",
    "# plt.show()\n",
    "plt.savefig('840-9.jpg')"
   ]
  }
 ],
 "metadata": {
  "kernelspec": {
   "display_name": "ITUR_venv",
   "language": "python",
   "name": "python3"
  },
  "language_info": {
   "codemirror_mode": {
    "name": "ipython",
    "version": 3
   },
   "file_extension": ".py",
   "mimetype": "text/x-python",
   "name": "python",
   "nbconvert_exporter": "python",
   "pygments_lexer": "ipython3",
   "version": "3.12.3"
  }
 },
 "nbformat": 4,
 "nbformat_minor": 2
}
