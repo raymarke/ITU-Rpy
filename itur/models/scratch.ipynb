{
 "cells": [
  {
   "cell_type": "code",
   "execution_count": 92,
   "metadata": {},
   "outputs": [
    {
     "ename": "FileNotFoundError",
     "evalue": "[Errno 2] No such file or directory: '../data/tempdata/v7_lat.xlsx'",
     "output_type": "error",
     "traceback": [
      "\u001b[1;31m---------------------------------------------------------------------------\u001b[0m",
      "\u001b[1;31mFileNotFoundError\u001b[0m                         Traceback (most recent call last)",
      "Cell \u001b[1;32mIn[92], line 4\u001b[0m\n\u001b[0;32m      2\u001b[0m \u001b[38;5;28;01mimport\u001b[39;00m \u001b[38;5;21;01mpandas\u001b[39;00m \u001b[38;5;28;01mas\u001b[39;00m \u001b[38;5;21;01mpd\u001b[39;00m\n\u001b[0;32m      3\u001b[0m file_path \u001b[38;5;241m=\u001b[39m \u001b[38;5;124m'\u001b[39m\u001b[38;5;124m../data/tempdata/v7_lat.xlsx\u001b[39m\u001b[38;5;124m'\u001b[39m\n\u001b[1;32m----> 4\u001b[0m df \u001b[38;5;241m=\u001b[39m pd\u001b[38;5;241m.\u001b[39mread_excel(file_path, header \u001b[38;5;241m=\u001b[39m \u001b[38;5;28;01mNone\u001b[39;00m)\u001b[38;5;66;03m#, delimiter=' ', lineterminator='\\n', header=None)  # Adjust the delimiter if needed (e.g., ',' for CSV)\u001b[39;00m\n\u001b[0;32m      6\u001b[0m df\u001b[38;5;241m.\u001b[39mhead()\n",
      "File \u001b[1;32mc:\\Users\\rayma\\anaconda3\\envs\\ITUR_venv\\Lib\\site-packages\\pandas\\io\\excel\\_base.py:495\u001b[0m, in \u001b[0;36mread_excel\u001b[1;34m(io, sheet_name, header, names, index_col, usecols, dtype, engine, converters, true_values, false_values, skiprows, nrows, na_values, keep_default_na, na_filter, verbose, parse_dates, date_parser, date_format, thousands, decimal, comment, skipfooter, storage_options, dtype_backend, engine_kwargs)\u001b[0m\n\u001b[0;32m    493\u001b[0m \u001b[38;5;28;01mif\u001b[39;00m \u001b[38;5;129;01mnot\u001b[39;00m \u001b[38;5;28misinstance\u001b[39m(io, ExcelFile):\n\u001b[0;32m    494\u001b[0m     should_close \u001b[38;5;241m=\u001b[39m \u001b[38;5;28;01mTrue\u001b[39;00m\n\u001b[1;32m--> 495\u001b[0m     io \u001b[38;5;241m=\u001b[39m ExcelFile(\n\u001b[0;32m    496\u001b[0m         io,\n\u001b[0;32m    497\u001b[0m         storage_options\u001b[38;5;241m=\u001b[39mstorage_options,\n\u001b[0;32m    498\u001b[0m         engine\u001b[38;5;241m=\u001b[39mengine,\n\u001b[0;32m    499\u001b[0m         engine_kwargs\u001b[38;5;241m=\u001b[39mengine_kwargs,\n\u001b[0;32m    500\u001b[0m     )\n\u001b[0;32m    501\u001b[0m \u001b[38;5;28;01melif\u001b[39;00m engine \u001b[38;5;129;01mand\u001b[39;00m engine \u001b[38;5;241m!=\u001b[39m io\u001b[38;5;241m.\u001b[39mengine:\n\u001b[0;32m    502\u001b[0m     \u001b[38;5;28;01mraise\u001b[39;00m \u001b[38;5;167;01mValueError\u001b[39;00m(\n\u001b[0;32m    503\u001b[0m         \u001b[38;5;124m\"\u001b[39m\u001b[38;5;124mEngine should not be specified when passing \u001b[39m\u001b[38;5;124m\"\u001b[39m\n\u001b[0;32m    504\u001b[0m         \u001b[38;5;124m\"\u001b[39m\u001b[38;5;124man ExcelFile - ExcelFile already has the engine set\u001b[39m\u001b[38;5;124m\"\u001b[39m\n\u001b[0;32m    505\u001b[0m     )\n",
      "File \u001b[1;32mc:\\Users\\rayma\\anaconda3\\envs\\ITUR_venv\\Lib\\site-packages\\pandas\\io\\excel\\_base.py:1550\u001b[0m, in \u001b[0;36mExcelFile.__init__\u001b[1;34m(self, path_or_buffer, engine, storage_options, engine_kwargs)\u001b[0m\n\u001b[0;32m   1548\u001b[0m     ext \u001b[38;5;241m=\u001b[39m \u001b[38;5;124m\"\u001b[39m\u001b[38;5;124mxls\u001b[39m\u001b[38;5;124m\"\u001b[39m\n\u001b[0;32m   1549\u001b[0m \u001b[38;5;28;01melse\u001b[39;00m:\n\u001b[1;32m-> 1550\u001b[0m     ext \u001b[38;5;241m=\u001b[39m inspect_excel_format(\n\u001b[0;32m   1551\u001b[0m         content_or_path\u001b[38;5;241m=\u001b[39mpath_or_buffer, storage_options\u001b[38;5;241m=\u001b[39mstorage_options\n\u001b[0;32m   1552\u001b[0m     )\n\u001b[0;32m   1553\u001b[0m     \u001b[38;5;28;01mif\u001b[39;00m ext \u001b[38;5;129;01mis\u001b[39;00m \u001b[38;5;28;01mNone\u001b[39;00m:\n\u001b[0;32m   1554\u001b[0m         \u001b[38;5;28;01mraise\u001b[39;00m \u001b[38;5;167;01mValueError\u001b[39;00m(\n\u001b[0;32m   1555\u001b[0m             \u001b[38;5;124m\"\u001b[39m\u001b[38;5;124mExcel file format cannot be determined, you must specify \u001b[39m\u001b[38;5;124m\"\u001b[39m\n\u001b[0;32m   1556\u001b[0m             \u001b[38;5;124m\"\u001b[39m\u001b[38;5;124man engine manually.\u001b[39m\u001b[38;5;124m\"\u001b[39m\n\u001b[0;32m   1557\u001b[0m         )\n",
      "File \u001b[1;32mc:\\Users\\rayma\\anaconda3\\envs\\ITUR_venv\\Lib\\site-packages\\pandas\\io\\excel\\_base.py:1402\u001b[0m, in \u001b[0;36minspect_excel_format\u001b[1;34m(content_or_path, storage_options)\u001b[0m\n\u001b[0;32m   1399\u001b[0m \u001b[38;5;28;01mif\u001b[39;00m \u001b[38;5;28misinstance\u001b[39m(content_or_path, \u001b[38;5;28mbytes\u001b[39m):\n\u001b[0;32m   1400\u001b[0m     content_or_path \u001b[38;5;241m=\u001b[39m BytesIO(content_or_path)\n\u001b[1;32m-> 1402\u001b[0m \u001b[38;5;28;01mwith\u001b[39;00m get_handle(\n\u001b[0;32m   1403\u001b[0m     content_or_path, \u001b[38;5;124m\"\u001b[39m\u001b[38;5;124mrb\u001b[39m\u001b[38;5;124m\"\u001b[39m, storage_options\u001b[38;5;241m=\u001b[39mstorage_options, is_text\u001b[38;5;241m=\u001b[39m\u001b[38;5;28;01mFalse\u001b[39;00m\n\u001b[0;32m   1404\u001b[0m ) \u001b[38;5;28;01mas\u001b[39;00m handle:\n\u001b[0;32m   1405\u001b[0m     stream \u001b[38;5;241m=\u001b[39m handle\u001b[38;5;241m.\u001b[39mhandle\n\u001b[0;32m   1406\u001b[0m     stream\u001b[38;5;241m.\u001b[39mseek(\u001b[38;5;241m0\u001b[39m)\n",
      "File \u001b[1;32mc:\\Users\\rayma\\anaconda3\\envs\\ITUR_venv\\Lib\\site-packages\\pandas\\io\\common.py:882\u001b[0m, in \u001b[0;36mget_handle\u001b[1;34m(path_or_buf, mode, encoding, compression, memory_map, is_text, errors, storage_options)\u001b[0m\n\u001b[0;32m    873\u001b[0m         handle \u001b[38;5;241m=\u001b[39m \u001b[38;5;28mopen\u001b[39m(\n\u001b[0;32m    874\u001b[0m             handle,\n\u001b[0;32m    875\u001b[0m             ioargs\u001b[38;5;241m.\u001b[39mmode,\n\u001b[1;32m   (...)\u001b[0m\n\u001b[0;32m    878\u001b[0m             newline\u001b[38;5;241m=\u001b[39m\u001b[38;5;124m\"\u001b[39m\u001b[38;5;124m\"\u001b[39m,\n\u001b[0;32m    879\u001b[0m         )\n\u001b[0;32m    880\u001b[0m     \u001b[38;5;28;01melse\u001b[39;00m:\n\u001b[0;32m    881\u001b[0m         \u001b[38;5;66;03m# Binary mode\u001b[39;00m\n\u001b[1;32m--> 882\u001b[0m         handle \u001b[38;5;241m=\u001b[39m \u001b[38;5;28mopen\u001b[39m(handle, ioargs\u001b[38;5;241m.\u001b[39mmode)\n\u001b[0;32m    883\u001b[0m     handles\u001b[38;5;241m.\u001b[39mappend(handle)\n\u001b[0;32m    885\u001b[0m \u001b[38;5;66;03m# Convert BytesIO or file objects passed with an encoding\u001b[39;00m\n",
      "\u001b[1;31mFileNotFoundError\u001b[0m: [Errno 2] No such file or directory: '../data/tempdata/v7_lat.xlsx'"
     ]
    }
   ],
   "source": [
    "## Check that text files are accurately converted to npzs\n",
    "import pandas as pd\n",
    "file_path = '../data/tempdata/L_002.xlsx'\n",
    "df = pd.read_excel(file_path, header = None)#, delimiter=' ', lineterminator='\\n', header=None)  # Adjust the delimiter if needed (e.g., ',' for CSV)\n",
    "\n",
    "df.head()\n",
    "# df.shape"
   ]
  },
  {
   "cell_type": "code",
   "execution_count": 141,
   "metadata": {},
   "outputs": [
    {
     "data": {
      "text/plain": [
       "array([[  0.   ,   1.125,   2.25 , ..., 357.75 , 358.875,   0.   ],\n",
       "       [  0.   ,   1.125,   2.25 , ..., 357.75 , 358.875,   0.   ],\n",
       "       [  0.   ,   1.125,   2.25 , ..., 357.75 , 358.875,   0.   ],\n",
       "       ...,\n",
       "       [  0.   ,   1.125,   2.25 , ..., 357.75 , 358.875,   0.   ],\n",
       "       [  0.   ,   1.125,   2.25 , ..., 357.75 , 358.875,   0.   ],\n",
       "       [  0.   ,   1.125,   2.25 , ..., 357.75 , 358.875,   0.   ]])"
      ]
     },
     "execution_count": 141,
     "metadata": {},
     "output_type": "execute_result"
    }
   ],
   "source": [
    "# import numpy as np\n",
    "import pandas as pd\n",
    "# df_npz = pd.DataFrame(np.load('../data/840/v8_lred_002.npz')['arr_0'])\n",
    "#lat, lon (0,0) occurs at lat row 360 and lon row 0\n",
    "# np.load('../data/840/v8_lred_002.npz')['arr_0'][360][0]\n",
    "df_npz = pd.DataFrame(np.load('../data/840/v7_lon.npz')['arr_0'])\n",
    "# df_npz\n",
    "# df_npz.shape\n",
    "# df_npz.head()\n",
    "\n",
    "np.mod(np.load('../data/840/v7_lon.npz')['arr_0'], 360)\n",
    "# rows_with_zeros = df_npz[(df_npz == 0).any(axis=1)]\n",
    "# 0.947 + (1.195-0.947)/2\n",
    "# print(rows_with_zeros)"
   ]
  },
  {
   "cell_type": "code",
   "execution_count": 143,
   "metadata": {},
   "outputs": [
    {
     "name": "stdout",
     "output_type": "stream",
     "text": [
      "Shape of the ndarray: (721, 1441)\n"
     ]
    },
    {
     "data": {
      "text/plain": [
       "array([[ 90.  ,  90.  ,  90.  , ...,  90.  ,  90.  ,  90.  ],\n",
       "       [ 89.75,  89.75,  89.75, ...,  89.75,  89.75,  89.75],\n",
       "       [ 89.5 ,  89.5 ,  89.5 , ...,  89.5 ,  89.5 ,  89.5 ],\n",
       "       ...,\n",
       "       [-89.5 , -89.5 , -89.5 , ..., -89.5 , -89.5 , -89.5 ],\n",
       "       [-89.75, -89.75, -89.75, ..., -89.75, -89.75, -89.75],\n",
       "       [-90.  , -90.  , -90.  , ..., -90.  , -90.  , -90.  ]])"
      ]
     },
     "execution_count": 143,
     "metadata": {},
     "output_type": "execute_result"
    }
   ],
   "source": [
    "import numpy as np\n",
    "import pandas as pd\n",
    "\n",
    "\n",
    "#create a fake lat or lon.\n",
    "# Calculate the number of rows\n",
    "num_rows = int(180 / 0.25) + 1  # 180 because 90 - (-90) = 180\n",
    "\n",
    "# Initialize the ndarray with zeros\n",
    "\n",
    "ndarray = np.zeros((num_rows, 1441))\n",
    "    # Fill the ndarray\n",
    "islat = True\n",
    "for i in range(num_rows):\n",
    "    if islat:\n",
    "        #inconsistent across ITU Rs.  sometimes sorted asc, descending\n",
    "        # ndarray[i] = -90 + i * 0.25\n",
    "        ndarray[i] = 90 - i * 0.25\n",
    "        df_npz = pd.DataFrame(np.load('../data/840/v8_lat.npz')['arr_0'])\n",
    "    else:\n",
    "        ndarray[i] = np.linspace(0,360,1441)\n",
    "        df_npz = pd.DataFrame(np.load('../data/840/v8_lon.npz')['arr_0'])\n",
    "\n",
    "\n",
    "print(\"Shape of the ndarray:\", ndarray.shape)\n",
    "np.savez('../data/840/v8_lon.npz',ndarray)\n",
    "np.load('../data/840/v8_lon.npz')['arr_0']\n",
    "\n",
    "# #compare the dataframes\n",
    "# df = pd.DataFrame(np.load('../data/840/v8_lon_fake.npz')['arr_0'])\n",
    "# df.shape\n",
    "# df.head()\n",
    "# print(df.compare(df_npz))"
   ]
  },
  {
   "cell_type": "code",
   "execution_count": 140,
   "metadata": {},
   "outputs": [
    {
     "name": "stdout",
     "output_type": "stream",
     "text": [
      "Row and column indices of value 3.701652 are: []\n"
     ]
    }
   ],
   "source": [
    "df = pd.DataFrame(np.load('../data/840/v7_lred_02.npz')['arr_0'])\n",
    "\n",
    "# Value to find\n",
    "value_to_find = 3.701652\n",
    "\n",
    "# Finding row and column indices\n",
    "indices = [(row, col) for row, col in zip(*((df == value_to_find).values).nonzero())]\n",
    "\n",
    "print(\"Row and column indices of value\", value_to_find, \"are:\", indices)"
   ]
  },
  {
   "cell_type": "code",
   "execution_count": 22,
   "metadata": {},
   "outputs": [
    {
     "name": "stdout",
     "output_type": "stream",
     "text": [
      "Shape of the ndarray: (721, 1441)\n"
     ]
    },
    {
     "data": {
      "text/plain": [
       "array([[0.0000e+00, 2.5000e-01, 5.0000e-01, ..., 3.5950e+02, 3.5975e+02,\n",
       "        3.6000e+02],\n",
       "       [0.0000e+00, 2.5000e-01, 5.0000e-01, ..., 3.5950e+02, 3.5975e+02,\n",
       "        3.6000e+02],\n",
       "       [0.0000e+00, 2.5000e-01, 5.0000e-01, ..., 3.5950e+02, 3.5975e+02,\n",
       "        3.6000e+02],\n",
       "       ...,\n",
       "       [0.0000e+00, 2.5000e-01, 5.0000e-01, ..., 3.5950e+02, 3.5975e+02,\n",
       "        3.6000e+02],\n",
       "       [0.0000e+00, 2.5000e-01, 5.0000e-01, ..., 3.5950e+02, 3.5975e+02,\n",
       "        3.6000e+02],\n",
       "       [0.0000e+00, 2.5000e-01, 5.0000e-01, ..., 3.5950e+02, 3.5975e+02,\n",
       "        3.6000e+02]])"
      ]
     },
     "execution_count": 22,
     "metadata": {},
     "output_type": "execute_result"
    }
   ],
   "source": [
    "import numpy as np\n",
    "\n",
    "#create a fake lat or lon.\n",
    "stepsize = 0.25\n",
    "# Calculate the number of rows\n",
    "num_rows = int(180 / stepsize) + 1  # 180 because 90 - (-90) = 180\n",
    "\n",
    "# Initialize the ndarray with zeros\n",
    "\n",
    "ndarray = np.zeros((num_rows, 1441))\n",
    "    # Fill the ndarray\n",
    "islat = False\n",
    "for i in range(num_rows):\n",
    "    if islat:\n",
    "        ndarray[i] = 0 + i * stepsize\n",
    "    else:\n",
    "        ndarray[i] = np.linspace(0,360,1441)\n",
    "\n",
    "\n",
    "print(\"Shape of the ndarray:\", ndarray.shape)\n",
    "np.savez('../data/840/v8_lon.npz',ndarray)\n",
    "np.load('../data/840/v8_lon.npz')['arr_0']\n",
    "\n",
    "#compare the dataframes\n",
    "# df = pd.DataFrame(np.load('../data/840/v8_lon_fake.npz')['arr_0'])\n",
    "# df.shape\n",
    "# df.head()\n",
    "# print(df.compare(df_npz))"
   ]
  },
  {
   "cell_type": "code",
   "execution_count": 24,
   "metadata": {},
   "outputs": [
    {
     "data": {
      "text/plain": [
       "array([[ 90.  ,  90.  ,  90.  , ...,  90.  ,  90.  ,  90.  ],\n",
       "       [ 89.75,  89.75,  89.75, ...,  89.75,  89.75,  89.75],\n",
       "       [ 89.5 ,  89.5 ,  89.5 , ...,  89.5 ,  89.5 ,  89.5 ],\n",
       "       ...,\n",
       "       [-89.5 , -89.5 , -89.5 , ..., -89.5 , -89.5 , -89.5 ],\n",
       "       [-89.75, -89.75, -89.75, ..., -89.75, -89.75, -89.75],\n",
       "       [-90.  , -90.  , -90.  , ..., -90.  , -90.  , -90.  ]])"
      ]
     },
     "execution_count": 24,
     "metadata": {},
     "output_type": "execute_result"
    }
   ],
   "source": [
    "np.load('../data/840/v8_lat.npz')['arr_0']\n"
   ]
  },
  {
   "cell_type": "code",
   "execution_count": 17,
   "metadata": {},
   "outputs": [
    {
     "name": "stdout",
     "output_type": "stream",
     "text": [
      "Shape of the ndarray: (721, 321)\n"
     ]
    },
    {
     "data": {
      "text/plain": [
       "array([[ 90.  ,  90.  ,  90.  , ...,  90.  ,  90.  ,  90.  ],\n",
       "       [ 89.75,  89.75,  89.75, ...,  89.75,  89.75,  89.75],\n",
       "       [ 89.5 ,  89.5 ,  89.5 , ...,  89.5 ,  89.5 ,  89.5 ],\n",
       "       ...,\n",
       "       [-89.5 , -89.5 , -89.5 , ..., -89.5 , -89.5 , -89.5 ],\n",
       "       [-89.75, -89.75, -89.75, ..., -89.75, -89.75, -89.75],\n",
       "       [-90.  , -90.  , -90.  , ..., -90.  , -90.  , -90.  ]])"
      ]
     },
     "execution_count": 17,
     "metadata": {},
     "output_type": "execute_result"
    }
   ],
   "source": [
    "import numpy as np\n",
    "\n",
    "stepsize = 0.25\n",
    "# Calculate the number of rows\n",
    "num_rows = int(180 / stepsize) + 1  # 180 because 90 - (-90) = 180\n",
    "\n",
    "# Initialize the ndarray with zeros\n",
    "ndarray = np.zeros((num_rows, 321))\n",
    "\n",
    "# Fill the ndarray\n",
    "for i in range(num_rows):\n",
    "    ndarray[i] = 90 - i * stepsize\n",
    "\n",
    "print(\"Shape of the ndarray:\", ndarray.shape)\n",
    "np.savez('../data/840/v8_lon.npz',ndarray)\n",
    "np.load('../data/840/v8_lon.npz')['arr_0']"
   ]
  },
  {
   "cell_type": "code",
   "execution_count": 4,
   "metadata": {},
   "outputs": [
    {
     "name": "stdout",
     "output_type": "stream",
     "text": [
      "['L_001.TXT', 'L_002.TXT', 'L_003.TXT', 'L_005.TXT', 'L_01.TXT', 'L_02.TXT', 'L_03.TXT', 'L_05.TXT', 'L_1.TXT', 'L_10.TXT', 'L_100.TXT', 'L_2.TXT', 'L_20.TXT', 'L_3.TXT', 'L_30.TXT', 'L_5.TXT', 'L_50.TXT', 'L_60.TXT', 'L_70.TXT', 'L_80.TXT', 'L_90.TXT', 'L_95.TXT', 'L_99.TXT', 'L_mean.TXT', 'L_std.TXT', 'v8_lred_001.npz', 'v8_lred_002.npz', 'v8_lred_003.npz', 'v8_lred_005.npz', 'v8_lred_01.npz', 'v8_lred_02.npz', 'v8_lred_03.npz', 'v8_lred_05.npz', 'v8_lred_1.npz', 'v8_lred_10.npz', 'v8_lred_100.npz', 'v8_lred_2.npz', 'v8_lred_20.npz', 'v8_lred_3.npz', 'v8_lred_30.npz', 'v8_lred_5.npz', 'v8_lred_50.npz', 'v8_lred_60.npz', 'v8_lred_70.npz', 'v8_lred_80.npz', 'v8_lred_90.npz', 'v8_lred_95.npz', 'v8_lred_99.npz']\n"
     ]
    }
   ],
   "source": [
    "# mypath = \"C:\\\\Users\\\\rayma\\\\Downloads\\\\ITUR 840-9\\\\R-REC-P.840Part1-0-202308-I!!ZIP-E\\\\\"\n",
    "mypath = \"../data/tempdata/\"\n",
    "from os import listdir\n",
    "from os.path import isfile, join\n",
    "onlyfiles = [f for f in listdir(mypath) if isfile(join(mypath, f))]\n",
    "print(onlyfiles)\n",
    "# fname = 'PL.txt'\n",
    "# available_p = np.array(\n",
    "#         [0.1, 0.2, 0.3, 0.5, 1.0, 2.0, 3.0, 5.0, 10.0, 20.0, 30.0, 50.0,\n",
    "#          60.0, 70.0, 80.0, 90.0, 95.0, 99.0])\n",
    "# for p in available_p:\n",
    "#     fname = 'L_'\n",
    "# df = display_txt_file_info(logNfilepath+fname)\n",
    "# np.savez('../data/840/v8_pclw.npz', df_9.astype(float).to_numpy())"
   ]
  },
  {
   "cell_type": "code",
   "execution_count": null,
   "metadata": {},
   "outputs": [],
   "source": [
    "# pd.read_csv(mypath + \"/\" + 'L_001.xlsx', delimiter=' ', lineterminator='\\n', header=None)"
   ]
  },
  {
   "cell_type": "code",
   "execution_count": 7,
   "metadata": {},
   "outputs": [
    {
     "name": "stdout",
     "output_type": "stream",
     "text": [
      "L_001.TXT\n",
      "L_002.TXT\n",
      "L_003.TXT\n",
      "L_005.TXT\n",
      "L_01.TXT\n",
      "L_02.TXT\n",
      "L_03.TXT\n",
      "L_05.TXT\n",
      "L_1.TXT\n",
      "L_10.TXT\n",
      "L_100.TXT\n",
      "L_2.TXT\n",
      "L_20.TXT\n",
      "L_3.TXT\n",
      "L_30.TXT\n",
      "L_5.TXT\n",
      "L_50.TXT\n",
      "L_60.TXT\n",
      "L_70.TXT\n",
      "L_80.TXT\n",
      "L_90.TXT\n",
      "L_95.TXT\n",
      "L_99.TXT\n",
      "L_mean.TXT\n"
     ]
    },
    {
     "ename": "TypeError",
     "evalue": "expected str, bytes or os.PathLike object, not NoneType",
     "output_type": "error",
     "traceback": [
      "\u001b[1;31m---------------------------------------------------------------------------\u001b[0m",
      "\u001b[1;31mTypeError\u001b[0m                                 Traceback (most recent call last)",
      "Cell \u001b[1;32mIn[7], line 28\u001b[0m\n\u001b[0;32m     26\u001b[0m newname \u001b[38;5;241m=\u001b[39m transform_filename(\u001b[38;5;124m\"\u001b[39m\u001b[38;5;124m/data/840/\u001b[39m\u001b[38;5;124m\"\u001b[39m \u001b[38;5;241m+\u001b[39m onlyfiles[count])\n\u001b[0;32m     27\u001b[0m \u001b[38;5;66;03m# print(newname)\u001b[39;00m\n\u001b[1;32m---> 28\u001b[0m np\u001b[38;5;241m.\u001b[39msavez(newname, reversed_df\u001b[38;5;241m.\u001b[39mastype(\u001b[38;5;28mfloat\u001b[39m)\u001b[38;5;241m.\u001b[39mto_numpy())\n\u001b[0;32m     30\u001b[0m count\u001b[38;5;241m+\u001b[39m\u001b[38;5;241m=\u001b[39m\u001b[38;5;241m1\u001b[39m\n",
      "File \u001b[1;32mc:\\Users\\rayma\\anaconda3\\envs\\ITUR_venv\\Lib\\site-packages\\numpy\\lib\\npyio.py:639\u001b[0m, in \u001b[0;36msavez\u001b[1;34m(file, *args, **kwds)\u001b[0m\n\u001b[0;32m    555\u001b[0m \u001b[38;5;129m@array_function_dispatch\u001b[39m(_savez_dispatcher)\n\u001b[0;32m    556\u001b[0m \u001b[38;5;28;01mdef\u001b[39;00m \u001b[38;5;21msavez\u001b[39m(file, \u001b[38;5;241m*\u001b[39margs, \u001b[38;5;241m*\u001b[39m\u001b[38;5;241m*\u001b[39mkwds):\n\u001b[0;32m    557\u001b[0m \u001b[38;5;250m    \u001b[39m\u001b[38;5;124;03m\"\"\"Save several arrays into a single file in uncompressed ``.npz`` format.\u001b[39;00m\n\u001b[0;32m    558\u001b[0m \n\u001b[0;32m    559\u001b[0m \u001b[38;5;124;03m    Provide arrays as keyword arguments to store them under the\u001b[39;00m\n\u001b[1;32m   (...)\u001b[0m\n\u001b[0;32m    637\u001b[0m \n\u001b[0;32m    638\u001b[0m \u001b[38;5;124;03m    \"\"\"\u001b[39;00m\n\u001b[1;32m--> 639\u001b[0m     _savez(file, args, kwds, \u001b[38;5;28;01mFalse\u001b[39;00m)\n",
      "File \u001b[1;32mc:\\Users\\rayma\\anaconda3\\envs\\ITUR_venv\\Lib\\site-packages\\numpy\\lib\\npyio.py:719\u001b[0m, in \u001b[0;36m_savez\u001b[1;34m(file, args, kwds, compress, allow_pickle, pickle_kwargs)\u001b[0m\n\u001b[0;32m    716\u001b[0m \u001b[38;5;28;01mimport\u001b[39;00m \u001b[38;5;21;01mzipfile\u001b[39;00m\n\u001b[0;32m    718\u001b[0m \u001b[38;5;28;01mif\u001b[39;00m \u001b[38;5;129;01mnot\u001b[39;00m \u001b[38;5;28mhasattr\u001b[39m(file, \u001b[38;5;124m'\u001b[39m\u001b[38;5;124mwrite\u001b[39m\u001b[38;5;124m'\u001b[39m):\n\u001b[1;32m--> 719\u001b[0m     file \u001b[38;5;241m=\u001b[39m os_fspath(file)\n\u001b[0;32m    720\u001b[0m     \u001b[38;5;28;01mif\u001b[39;00m \u001b[38;5;129;01mnot\u001b[39;00m file\u001b[38;5;241m.\u001b[39mendswith(\u001b[38;5;124m'\u001b[39m\u001b[38;5;124m.npz\u001b[39m\u001b[38;5;124m'\u001b[39m):\n\u001b[0;32m    721\u001b[0m         file \u001b[38;5;241m=\u001b[39m file \u001b[38;5;241m+\u001b[39m \u001b[38;5;124m'\u001b[39m\u001b[38;5;124m.npz\u001b[39m\u001b[38;5;124m'\u001b[39m\n",
      "\u001b[1;31mTypeError\u001b[0m: expected str, bytes or os.PathLike object, not NoneType"
     ]
    }
   ],
   "source": [
    "##create the npz files used to calculate just about everything in 840.\n",
    "import re\n",
    "import numpy as np\n",
    "import pandas as pd\n",
    "\n",
    "def transform_filename(filename):\n",
    "    # Use regular expressions to extract the numerical part of the filename\n",
    "    match = re.search(r'_(\\d+)\\.TXT', filename)\n",
    "    if match:\n",
    "        num = match.group(1)\n",
    "        new_filename = f'v8_lred_{num}.npz'\n",
    "        return new_filename\n",
    "    else:\n",
    "        return None\n",
    "\n",
    "# Example usage\n",
    "new_filename = []\n",
    "count = 0\n",
    "for i in onlyfiles:\n",
    "    print(onlyfiles[count])\n",
    "    df = pd.read_csv(mypath + onlyfiles[count], delimiter=' ', lineterminator='\\n', header=None)\n",
    "    reversed_df = df.iloc[::-1].reset_index(drop=True)\n",
    "    # df = display_txt_file_info(mypath + \"\\\\\" + onlyfiles[count])\n",
    "    # print(df.head())\n",
    "    # if it were a numpy array then do this: reversed_array = array[::-1]\n",
    "    newname = transform_filename(\"/data/840/\" + onlyfiles[count])\n",
    "    # print(newname)\n",
    "    np.savez(newname, reversed_df.astype(float).to_numpy())\n",
    "    \n",
    "    count+=1\n",
    "    \n",
    "## THEY ARE ALL PERFECTLY SHAPED!!!"
   ]
  },
  {
   "cell_type": "code",
   "execution_count": 104,
   "metadata": {},
   "outputs": [
    {
     "name": "stdout",
     "output_type": "stream",
     "text": [
      "v4_esawred_01.npz   (161, 321)\n",
      "v4_esawred_02.npz   (161, 321)\n",
      "v4_esawred_03.npz   (161, 321)\n",
      "v4_esawred_05.npz   (161, 321)\n",
      "v4_esawred_1.npz   (161, 321)\n",
      "v4_esawred_10.npz   (161, 321)\n",
      "v4_esawred_2.npz   (161, 321)\n",
      "v4_esawred_20.npz   (161, 321)\n",
      "v4_esawred_3.npz   (161, 321)\n",
      "v4_esawred_30.npz   (161, 321)\n",
      "v4_esawred_5.npz   (161, 321)\n",
      "v4_esawred_50.npz   (161, 321)\n",
      "v4_esawred_60.npz   (161, 321)\n",
      "v4_esawred_70.npz   (161, 321)\n",
      "v4_esawred_80.npz   (161, 321)\n",
      "v4_esawred_90.npz   (161, 321)\n",
      "v4_esawred_95.npz   (161, 321)\n",
      "v4_esawred_99.npz   (161, 321)\n",
      "v4_lat.npz   (161, 321)\n",
      "v4_lon.npz   (161, 321)\n",
      "v4_wred_lognormal_mean.npz   (161, 321)\n",
      "v4_wred_lognormal_pclw.npz   (161, 321)\n",
      "v4_wred_lognormal_stdev.npz   (161, 321)\n",
      "v6_lat.npz   (161, 321)\n",
      "v6_lon.npz   (161, 321)\n",
      "v6_lred_01.npz   (161, 321)\n",
      "v6_lred_02.npz   (161, 321)\n",
      "v6_lred_03.npz   (161, 321)\n",
      "v6_lred_05.npz   (161, 321)\n",
      "v6_lred_1.npz   (161, 321)\n",
      "v6_lred_10.npz   (161, 321)\n",
      "v6_lred_2.npz   (161, 321)\n",
      "v6_lred_20.npz   (161, 321)\n",
      "v6_lred_3.npz   (161, 321)\n",
      "v6_lred_30.npz   (161, 321)\n",
      "v6_lred_5.npz   (161, 321)\n",
      "v6_lred_50.npz   (161, 321)\n",
      "v6_lred_60.npz   (161, 321)\n",
      "v6_lred_70.npz   (161, 321)\n",
      "v6_lred_80.npz   (161, 321)\n",
      "v6_lred_90.npz   (161, 321)\n",
      "v6_lred_95.npz   (161, 321)\n",
      "v6_lred_99.npz   (161, 321)\n",
      "v6_m.npz   (161, 321)\n",
      "v6_pclw.npz   (161, 321)\n",
      "v6_sigma.npz   (161, 321)\n",
      "v7_lat.npz   (161, 321)\n",
      "v7_lon.npz   (161, 321)\n",
      "v7_lred_01.npz   (161, 321)\n",
      "v7_lred_02.npz   (161, 321)\n",
      "v7_lred_03.npz   (161, 321)\n",
      "v7_lred_05.npz   (161, 321)\n",
      "v7_lred_1.npz   (161, 321)\n",
      "v7_lred_10.npz   (161, 321)\n",
      "v7_lred_2.npz   (161, 321)\n",
      "v7_lred_20.npz   (161, 321)\n",
      "v7_lred_3.npz   (161, 321)\n",
      "v7_lred_30.npz   (161, 321)\n",
      "v7_lred_5.npz   (161, 321)\n",
      "v7_lred_50.npz   (161, 321)\n",
      "v7_lred_60.npz   (161, 321)\n",
      "v7_lred_70.npz   (161, 321)\n",
      "v7_lred_80.npz   (161, 321)\n",
      "v7_lred_90.npz   (161, 321)\n",
      "v7_lred_95.npz   (161, 321)\n",
      "v7_lred_99.npz   (161, 321)\n",
      "v7_m.npz   (161, 321)\n",
      "v7_pclw.npz   (161, 321)\n",
      "v7_sigma.npz   (161, 321)\n",
      "v8_lat.npz   (721, 1441)\n",
      "v8_lon.npz   (721, 1441)\n",
      "v8_lred_001.npz   (721, 1441)\n",
      "v8_lred_002.npz   (721, 1441)\n",
      "v8_lred_003.npz   (721, 1441)\n",
      "v8_lred_005.npz   (721, 1441)\n",
      "v8_lred_01.npz   (721, 1441)\n",
      "v8_lred_02.npz   (721, 1441)\n",
      "v8_lred_03.npz   (721, 1441)\n",
      "v8_lred_05.npz   (721, 1441)\n",
      "v8_lred_1.npz   (721, 1441)\n",
      "v8_lred_10.npz   (721, 1441)\n",
      "v8_lred_100.npz   (721, 1441)\n",
      "v8_lred_2.npz   (721, 1441)\n",
      "v8_lred_20.npz   (721, 1441)\n",
      "v8_lred_3.npz   (721, 1441)\n",
      "v8_lred_30.npz   (721, 1441)\n",
      "v8_lred_5.npz   (721, 1441)\n",
      "v8_lred_50.npz   (721, 1441)\n",
      "v8_lred_60.npz   (721, 1441)\n",
      "v8_lred_70.npz   (721, 1441)\n",
      "v8_lred_80.npz   (721, 1441)\n",
      "v8_lred_90.npz   (721, 1441)\n",
      "v8_lred_95.npz   (721, 1441)\n",
      "v8_lred_99.npz   (721, 1441)\n",
      "v8_m.npz   (721, 1441)\n",
      "v8_pclw.npz   (721, 1441)\n",
      "v8_sigma.npz   (721, 1441)\n"
     ]
    }
   ],
   "source": [
    "# check data in npz\n",
    "from os import listdir\n",
    "from os.path import isfile, join\n",
    "mypath = '../data/840/'\n",
    "onlyfiles = [f for f in listdir(mypath) if isfile(join(mypath, f))]\n",
    "new_filename = []\n",
    "count = 0\n",
    "for i in onlyfiles:\n",
    "    print(i, ' ', np.load(mypath+i)['arr_0'].shape)\n",
    "    # print(onlyfiles[count])\n",
    "\n",
    "    \n",
    "    count+=1"
   ]
  },
  {
   "cell_type": "code",
   "execution_count": 86,
   "metadata": {},
   "outputs": [
    {
     "name": "stdout",
     "output_type": "stream",
     "text": [
      "[[0.122 0.122 0.122 ... 0.122 0.122 0.122]\n",
      " [0.123 0.123 0.123 ... 0.123 0.123 0.123]\n",
      " [0.123 0.123 0.123 ... 0.123 0.123 0.123]\n",
      " ...\n",
      " [0.    0.    0.    ... 0.    0.    0.   ]\n",
      " [0.    0.    0.    ... 0.    0.    0.   ]\n",
      " [0.    0.    0.    ... 0.    0.    0.   ]]\n",
      "(721, 1441)\n"
     ]
    }
   ],
   "source": [
    "from itur.models.itu1144 import bilinear_2D_interpolator\n",
    "from itur.utils import (dataset_dir, prepare_input_array, prepare_output_array,\n",
    "                        prepare_quantity, load_data_interpolator,\n",
    "                        get_input_type)\n",
    "\n",
    "lred = load_data_interpolator(\n",
    "    '../data/840/v8_lat.npz',\n",
    "    '../data/840/v8_lon.npz',\n",
    "    '../data/840/v8_lred_5.npz',\n",
    "    bilinear_2D_interpolator,\n",
    "    flip_ud=False\n",
    ")\n",
    "print(lred.values)\n",
    "\n",
    "# print(np.load('../data/840/v7_lat.npz')['arr_0'].shape)\n",
    "# print(np.load('../data/840/v7_lon.npz')['arr_0'])\n",
    "# print(np.load('../data/840/v7_lred_95.npz')['arr_0'])\n",
    "\n",
    "print(np.load('../data/840/v8_lat.npz')['arr_0'].shape)\n",
    "# print(np.load('../data/840/v8_lon.npz')['arr_0'])\n",
    "# print(np.load('../data/840/v8_lred_95.npz')['arr_0'])\n"
   ]
  },
  {
   "cell_type": "code",
   "execution_count": 69,
   "metadata": {},
   "outputs": [
    {
     "name": "stdout",
     "output_type": "stream",
     "text": [
      "Shape of the ndarray: (721, 1441)\n",
      "[[ 90.    90.    90.   ...  90.    90.    90.  ]\n",
      " [ 89.75  89.75  89.75 ...  89.75  89.75  89.75]\n",
      " [ 89.5   89.5   89.5  ...  89.5   89.5   89.5 ]\n",
      " ...\n",
      " [-89.5  -89.5  -89.5  ... -89.5  -89.5  -89.5 ]\n",
      " [-89.75 -89.75 -89.75 ... -89.75 -89.75 -89.75]\n",
      " [-90.   -90.   -90.   ... -90.   -90.   -90.  ]]\n"
     ]
    }
   ],
   "source": [
    "import numpy as np\n",
    "\n",
    "# Calculate the number of rows\n",
    "num_rows = int(180 / 0.25) + 1  # 180 because 90 - (-90) = 180\n",
    "\n",
    "# Initialize the ndarray with zeros\n",
    "ndarray = np.zeros((num_rows, 1441))\n",
    "\n",
    "# Fill the ndarray\n",
    "for i in range(num_rows):\n",
    "    ndarray[i] = 90 - i * 0.25\n",
    "\n",
    "print(\"Shape of the ndarray:\", ndarray.shape)\n",
    "print(ndarray)"
   ]
  },
  {
   "cell_type": "code",
   "execution_count": 93,
   "metadata": {},
   "outputs": [
    {
     "name": "stdout",
     "output_type": "stream",
     "text": [
      "(721, 1441)\n",
      "(721, 1441)\n",
      "(721, 1441)\n"
     ]
    }
   ],
   "source": [
    "# lats_o[2:-2, 2:-2]\n",
    "# lats_o = np.load('../data/840/v8_lat.npz')['arr_0'][2:-2, 2:-2]\n",
    "# lons_o = np.load('../data/840/v8_lon.npz')['arr_0'][2:-2, 2:-2]\n",
    "print(np.atleast_2d(np.load('../data/840/v8_lat.npz')['arr_0']).shape)\n",
    "print(np.atleast_2d(np.load('../data/840/v8_lon.npz')['arr_0']).shape)\n",
    "print(np.atleast_2d(np.load('../data/840/v8_lred_5.npz')['arr_0']).shape)\n",
    "# print(lats_o)\n",
    "# print(lons_o)\n",
    "\n",
    "# from itur.models.itu1144 import is_regular_grid\n",
    "# is_regular_grid(lats_o[2:-2, 2:-2], lons_o[2:-2, 2:-2])"
   ]
  },
  {
   "cell_type": "code",
   "execution_count": 16,
   "metadata": {},
   "outputs": [
    {
     "data": {
      "text/plain": [
       "array([[ 90.  ,  90.  ,  90.  , ...,  90.  ,  90.  ,  90.  ],\n",
       "       [ 89.75,  89.75,  89.75, ...,  89.75,  89.75,  89.75],\n",
       "       [ 89.5 ,  89.5 ,  89.5 , ...,  89.5 ,  89.5 ,  89.5 ],\n",
       "       ...,\n",
       "       [-89.5 , -89.5 , -89.5 , ..., -89.5 , -89.5 , -89.5 ],\n",
       "       [-89.75, -89.75, -89.75, ..., -89.75, -89.75, -89.75],\n",
       "       [-90.  , -90.  , -90.  , ..., -90.  , -90.  , -90.  ]])"
      ]
     },
     "execution_count": 16,
     "metadata": {},
     "output_type": "execute_result"
    }
   ],
   "source": [
    "np.load('../data/840/v8_lat.npz')['arr_0']"
   ]
  },
  {
   "cell_type": "code",
   "execution_count": 8,
   "metadata": {},
   "outputs": [
    {
     "ename": "FileNotFoundError",
     "evalue": "[Errno 2] No such file or directory: './test/test_data/840/cloud_liquid_9.xlsx'",
     "output_type": "error",
     "traceback": [
      "\u001b[1;31m---------------------------------------------------------------------------\u001b[0m",
      "\u001b[1;31mFileNotFoundError\u001b[0m                         Traceback (most recent call last)",
      "Cell \u001b[1;32mIn[8], line 11\u001b[0m\n\u001b[0;32m      8\u001b[0m \u001b[38;5;28;01mimport\u001b[39;00m \u001b[38;5;21;01mpandas\u001b[39;00m\n\u001b[0;32m      9\u001b[0m path_to_my_workbook \u001b[38;5;241m=\u001b[39m \u001b[38;5;124m'\u001b[39m\u001b[38;5;124m./test/test_data/840/cloud_liquid_9.xlsx\u001b[39m\u001b[38;5;124m'\u001b[39m\n\u001b[1;32m---> 11\u001b[0m df \u001b[38;5;241m=\u001b[39m pandas\u001b[38;5;241m.\u001b[39mread_excel(path_to_my_workbook) \u001b[38;5;66;03m# The options of that method are quite neat; Stores to a pandas.DataFrame object\u001b[39;00m\n\u001b[0;32m     12\u001b[0m \u001b[38;5;28mprint\u001b[39m ( df\u001b[38;5;241m.\u001b[39mhead() )\u001b[38;5;66;03m# show a preview of the loaded data\u001b[39;00m\n\u001b[0;32m     13\u001b[0m idx_of_column \u001b[38;5;241m=\u001b[39m \u001b[38;5;241m5\u001b[39m\u001b[38;5;241m-\u001b[39m\u001b[38;5;241m1\u001b[39m \u001b[38;5;66;03m# in case the column of interest is the 5th in Excel\u001b[39;00m\n",
      "File \u001b[1;32mc:\\Users\\rayma\\anaconda3\\envs\\ITUR_venv\\Lib\\site-packages\\pandas\\io\\excel\\_base.py:495\u001b[0m, in \u001b[0;36mread_excel\u001b[1;34m(io, sheet_name, header, names, index_col, usecols, dtype, engine, converters, true_values, false_values, skiprows, nrows, na_values, keep_default_na, na_filter, verbose, parse_dates, date_parser, date_format, thousands, decimal, comment, skipfooter, storage_options, dtype_backend, engine_kwargs)\u001b[0m\n\u001b[0;32m    493\u001b[0m \u001b[38;5;28;01mif\u001b[39;00m \u001b[38;5;129;01mnot\u001b[39;00m \u001b[38;5;28misinstance\u001b[39m(io, ExcelFile):\n\u001b[0;32m    494\u001b[0m     should_close \u001b[38;5;241m=\u001b[39m \u001b[38;5;28;01mTrue\u001b[39;00m\n\u001b[1;32m--> 495\u001b[0m     io \u001b[38;5;241m=\u001b[39m ExcelFile(\n\u001b[0;32m    496\u001b[0m         io,\n\u001b[0;32m    497\u001b[0m         storage_options\u001b[38;5;241m=\u001b[39mstorage_options,\n\u001b[0;32m    498\u001b[0m         engine\u001b[38;5;241m=\u001b[39mengine,\n\u001b[0;32m    499\u001b[0m         engine_kwargs\u001b[38;5;241m=\u001b[39mengine_kwargs,\n\u001b[0;32m    500\u001b[0m     )\n\u001b[0;32m    501\u001b[0m \u001b[38;5;28;01melif\u001b[39;00m engine \u001b[38;5;129;01mand\u001b[39;00m engine \u001b[38;5;241m!=\u001b[39m io\u001b[38;5;241m.\u001b[39mengine:\n\u001b[0;32m    502\u001b[0m     \u001b[38;5;28;01mraise\u001b[39;00m \u001b[38;5;167;01mValueError\u001b[39;00m(\n\u001b[0;32m    503\u001b[0m         \u001b[38;5;124m\"\u001b[39m\u001b[38;5;124mEngine should not be specified when passing \u001b[39m\u001b[38;5;124m\"\u001b[39m\n\u001b[0;32m    504\u001b[0m         \u001b[38;5;124m\"\u001b[39m\u001b[38;5;124man ExcelFile - ExcelFile already has the engine set\u001b[39m\u001b[38;5;124m\"\u001b[39m\n\u001b[0;32m    505\u001b[0m     )\n",
      "File \u001b[1;32mc:\\Users\\rayma\\anaconda3\\envs\\ITUR_venv\\Lib\\site-packages\\pandas\\io\\excel\\_base.py:1550\u001b[0m, in \u001b[0;36mExcelFile.__init__\u001b[1;34m(self, path_or_buffer, engine, storage_options, engine_kwargs)\u001b[0m\n\u001b[0;32m   1548\u001b[0m     ext \u001b[38;5;241m=\u001b[39m \u001b[38;5;124m\"\u001b[39m\u001b[38;5;124mxls\u001b[39m\u001b[38;5;124m\"\u001b[39m\n\u001b[0;32m   1549\u001b[0m \u001b[38;5;28;01melse\u001b[39;00m:\n\u001b[1;32m-> 1550\u001b[0m     ext \u001b[38;5;241m=\u001b[39m inspect_excel_format(\n\u001b[0;32m   1551\u001b[0m         content_or_path\u001b[38;5;241m=\u001b[39mpath_or_buffer, storage_options\u001b[38;5;241m=\u001b[39mstorage_options\n\u001b[0;32m   1552\u001b[0m     )\n\u001b[0;32m   1553\u001b[0m     \u001b[38;5;28;01mif\u001b[39;00m ext \u001b[38;5;129;01mis\u001b[39;00m \u001b[38;5;28;01mNone\u001b[39;00m:\n\u001b[0;32m   1554\u001b[0m         \u001b[38;5;28;01mraise\u001b[39;00m \u001b[38;5;167;01mValueError\u001b[39;00m(\n\u001b[0;32m   1555\u001b[0m             \u001b[38;5;124m\"\u001b[39m\u001b[38;5;124mExcel file format cannot be determined, you must specify \u001b[39m\u001b[38;5;124m\"\u001b[39m\n\u001b[0;32m   1556\u001b[0m             \u001b[38;5;124m\"\u001b[39m\u001b[38;5;124man engine manually.\u001b[39m\u001b[38;5;124m\"\u001b[39m\n\u001b[0;32m   1557\u001b[0m         )\n",
      "File \u001b[1;32mc:\\Users\\rayma\\anaconda3\\envs\\ITUR_venv\\Lib\\site-packages\\pandas\\io\\excel\\_base.py:1402\u001b[0m, in \u001b[0;36minspect_excel_format\u001b[1;34m(content_or_path, storage_options)\u001b[0m\n\u001b[0;32m   1399\u001b[0m \u001b[38;5;28;01mif\u001b[39;00m \u001b[38;5;28misinstance\u001b[39m(content_or_path, \u001b[38;5;28mbytes\u001b[39m):\n\u001b[0;32m   1400\u001b[0m     content_or_path \u001b[38;5;241m=\u001b[39m BytesIO(content_or_path)\n\u001b[1;32m-> 1402\u001b[0m \u001b[38;5;28;01mwith\u001b[39;00m get_handle(\n\u001b[0;32m   1403\u001b[0m     content_or_path, \u001b[38;5;124m\"\u001b[39m\u001b[38;5;124mrb\u001b[39m\u001b[38;5;124m\"\u001b[39m, storage_options\u001b[38;5;241m=\u001b[39mstorage_options, is_text\u001b[38;5;241m=\u001b[39m\u001b[38;5;28;01mFalse\u001b[39;00m\n\u001b[0;32m   1404\u001b[0m ) \u001b[38;5;28;01mas\u001b[39;00m handle:\n\u001b[0;32m   1405\u001b[0m     stream \u001b[38;5;241m=\u001b[39m handle\u001b[38;5;241m.\u001b[39mhandle\n\u001b[0;32m   1406\u001b[0m     stream\u001b[38;5;241m.\u001b[39mseek(\u001b[38;5;241m0\u001b[39m)\n",
      "File \u001b[1;32mc:\\Users\\rayma\\anaconda3\\envs\\ITUR_venv\\Lib\\site-packages\\pandas\\io\\common.py:882\u001b[0m, in \u001b[0;36mget_handle\u001b[1;34m(path_or_buf, mode, encoding, compression, memory_map, is_text, errors, storage_options)\u001b[0m\n\u001b[0;32m    873\u001b[0m         handle \u001b[38;5;241m=\u001b[39m \u001b[38;5;28mopen\u001b[39m(\n\u001b[0;32m    874\u001b[0m             handle,\n\u001b[0;32m    875\u001b[0m             ioargs\u001b[38;5;241m.\u001b[39mmode,\n\u001b[1;32m   (...)\u001b[0m\n\u001b[0;32m    878\u001b[0m             newline\u001b[38;5;241m=\u001b[39m\u001b[38;5;124m\"\u001b[39m\u001b[38;5;124m\"\u001b[39m,\n\u001b[0;32m    879\u001b[0m         )\n\u001b[0;32m    880\u001b[0m     \u001b[38;5;28;01melse\u001b[39;00m:\n\u001b[0;32m    881\u001b[0m         \u001b[38;5;66;03m# Binary mode\u001b[39;00m\n\u001b[1;32m--> 882\u001b[0m         handle \u001b[38;5;241m=\u001b[39m \u001b[38;5;28mopen\u001b[39m(handle, ioargs\u001b[38;5;241m.\u001b[39mmode)\n\u001b[0;32m    883\u001b[0m     handles\u001b[38;5;241m.\u001b[39mappend(handle)\n\u001b[0;32m    885\u001b[0m \u001b[38;5;66;03m# Convert BytesIO or file objects passed with an encoding\u001b[39;00m\n",
      "\u001b[1;31mFileNotFoundError\u001b[0m: [Errno 2] No such file or directory: './test/test_data/840/cloud_liquid_9.xlsx'"
     ]
    }
   ],
   "source": [
    "# import xlrd\n",
    "# path_to_my_workbook = '../test/test_data/840/cloud_liquid_9.xlsx'\n",
    "# wb = xlrd.open_workbook(path_to_my_workbook)\n",
    "# ws = wb.sheet_by_index(0)\n",
    "# mylist = ws.col_values(0)\n",
    "# print(mylist)\n",
    "\n",
    "import pandas\n",
    "path_to_my_workbook = './test/test_data/840/cloud_liquid_9.xlsx'\n",
    "\n",
    "df = pandas.read_excel(path_to_my_workbook) # The options of that method are quite neat; Stores to a pandas.DataFrame object\n",
    "print ( df.head() )# show a preview of the loaded data\n",
    "idx_of_column = 5-1 # in case the column of interest is the 5th in Excel\n",
    "print( list(df.iloc[:,idx_of_column]) )# access via index\n",
    "print( list(df.loc[['my_row_1','my_row_2'],['my_column_1','my_column_2']]) )# access certain elements via row and column names\n",
    "print( list(df['my_column_1']) )# straight forward access via column name"
   ]
  },
  {
   "cell_type": "code",
   "execution_count": 91,
   "metadata": {},
   "outputs": [
    {
     "ename": "FileNotFoundError",
     "evalue": "[Errno 2] No such file or directory: 'v7_lat.npz'",
     "output_type": "error",
     "traceback": [
      "\u001b[1;31m---------------------------------------------------------------------------\u001b[0m",
      "\u001b[1;31mFileNotFoundError\u001b[0m                         Traceback (most recent call last)",
      "Cell \u001b[1;32mIn[91], line 1\u001b[0m\n\u001b[1;32m----> 1\u001b[0m my_df \u001b[38;5;241m=\u001b[39m pd\u001b[38;5;241m.\u001b[39mDataFrame(np\u001b[38;5;241m.\u001b[39mload(\u001b[38;5;124m'\u001b[39m\u001b[38;5;124mv7_lat.npz\u001b[39m\u001b[38;5;124m'\u001b[39m)[\u001b[38;5;124m'\u001b[39m\u001b[38;5;124marr_0\u001b[39m\u001b[38;5;124m'\u001b[39m])\n",
      "File \u001b[1;32mc:\\Users\\rayma\\anaconda3\\envs\\ITUR_venv\\Lib\\site-packages\\numpy\\lib\\npyio.py:427\u001b[0m, in \u001b[0;36mload\u001b[1;34m(file, mmap_mode, allow_pickle, fix_imports, encoding, max_header_size)\u001b[0m\n\u001b[0;32m    425\u001b[0m     own_fid \u001b[38;5;241m=\u001b[39m \u001b[38;5;28;01mFalse\u001b[39;00m\n\u001b[0;32m    426\u001b[0m \u001b[38;5;28;01melse\u001b[39;00m:\n\u001b[1;32m--> 427\u001b[0m     fid \u001b[38;5;241m=\u001b[39m stack\u001b[38;5;241m.\u001b[39menter_context(\u001b[38;5;28mopen\u001b[39m(os_fspath(file), \u001b[38;5;124m\"\u001b[39m\u001b[38;5;124mrb\u001b[39m\u001b[38;5;124m\"\u001b[39m))\n\u001b[0;32m    428\u001b[0m     own_fid \u001b[38;5;241m=\u001b[39m \u001b[38;5;28;01mTrue\u001b[39;00m\n\u001b[0;32m    430\u001b[0m \u001b[38;5;66;03m# Code to distinguish from NumPy binary files and pickles.\u001b[39;00m\n",
      "\u001b[1;31mFileNotFoundError\u001b[0m: [Errno 2] No such file or directory: 'v7_lat.npz'"
     ]
    }
   ],
   "source": [
    "my_df = pd.DataFrame(np.load('v7_lat.npz')['arr_0'])\n",
    "# my_df.to_csv('list.csv', index=False)\n",
    "\n"
   ]
  },
  {
   "cell_type": "code",
   "execution_count": 145,
   "metadata": {},
   "outputs": [
    {
     "name": "stdout",
     "output_type": "stream",
     "text": [
      "lat used: [[0.]], lon used: [[0.]]\n",
      "P is 1.0, P_below is 1.0, P_above is 1.0\n",
      "3.0248978 kg / m2\n"
     ]
    }
   ],
   "source": [
    "import itur\n",
    "import itur.models\n",
    "import itur.models.itu840\n",
    "\n",
    "# Define input attributes\n",
    "lat = 0.0  #  (°N)\n",
    "lon = 0.0  # (°E)\n",
    "# f = 6  # (GHz)\n",
    "# el = 31.07699124  # (°)\n",
    "p = 1.0 # (%)\n",
    "\n",
    "# Make call to test-function cloud_attenuation\n",
    "itur_val = itur.models.itu840.columnar_content_reduced_liquid(lat, lon, p)\n",
    "print(itur_val)\n",
    "# Compute error with respect to value in ITU example file\n",
    "# ITU_example_val = 0.45516982  # (dB)\n",
    "# error = ITU_example_val - itur_val.value\n",
    "# error_rel = error / ITU_example_val * 100  # (%)"
   ]
  }
 ],
 "metadata": {
  "kernelspec": {
   "display_name": "ITUR_venv",
   "language": "python",
   "name": "python3"
  },
  "language_info": {
   "codemirror_mode": {
    "name": "ipython",
    "version": 3
   },
   "file_extension": ".py",
   "mimetype": "text/x-python",
   "name": "python",
   "nbconvert_exporter": "python",
   "pygments_lexer": "ipython3",
   "version": "3.12.3"
  }
 },
 "nbformat": 4,
 "nbformat_minor": 2
}
