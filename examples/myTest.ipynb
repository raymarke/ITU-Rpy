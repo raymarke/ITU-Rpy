{
 "cells": [
  {
   "cell_type": "code",
   "execution_count": 6,
   "metadata": {},
   "outputs": [],
   "source": [
    "# Python imports\n",
    "import itur\n",
    "import astropy.units as u\n",
    "import numpy as np\n",
    "import cartopy\n",
    "import matplotlib.pyplot as plt\n",
    "%matplotlib inline"
   ]
  },
  {
   "cell_type": "code",
   "execution_count": 11,
   "metadata": {},
   "outputs": [
    {
     "ename": "NameError",
     "evalue": "name 'pip' is not defined",
     "output_type": "error",
     "traceback": [
      "\u001b[1;31m---------------------------------------------------------------------------\u001b[0m",
      "\u001b[1;31mNameError\u001b[0m                                 Traceback (most recent call last)",
      "Cell \u001b[1;32mIn[11], line 4\u001b[0m\n\u001b[0;32m      1\u001b[0m \u001b[38;5;66;03m# python setup.py build\u001b[39;00m\n\u001b[0;32m      2\u001b[0m \n\u001b[0;32m      3\u001b[0m \u001b[38;5;66;03m# pip install .\u001b[39;00m\n\u001b[1;32m----> 4\u001b[0m pip \u001b[38;5;241m-\u001b[39m\u001b[38;5;241m-\u001b[39mhelp\n",
      "\u001b[1;31mNameError\u001b[0m: name 'pip' is not defined"
     ]
    }
   ],
   "source": [
    "# python setup.py build\n",
    "\n",
    "# pip install .\n"
   ]
  },
  {
   "cell_type": "code",
   "execution_count": 7,
   "metadata": {},
   "outputs": [
    {
     "ename": "IndexError",
     "evalue": "too many indices for array: array is 1-dimensional, but 2 were indexed",
     "output_type": "error",
     "traceback": [
      "\u001b[1;31m---------------------------------------------------------------------------\u001b[0m",
      "\u001b[1;31mIndexError\u001b[0m                                Traceback (most recent call last)",
      "Cell \u001b[1;32mIn[7], line 10\u001b[0m\n\u001b[0;32m      7\u001b[0m lat, lon \u001b[38;5;241m=\u001b[39m itur\u001b[38;5;241m.\u001b[39mutils\u001b[38;5;241m.\u001b[39mregular_lat_lon_grid()\n\u001b[0;32m      9\u001b[0m \u001b[38;5;66;03m# Comute the atmospheric attenuation\u001b[39;00m\n\u001b[1;32m---> 10\u001b[0m Att \u001b[38;5;241m=\u001b[39m \u001b[43mitur\u001b[49m\u001b[38;5;241;43m.\u001b[39;49m\u001b[43matmospheric_attenuation_slant_path\u001b[49m\u001b[43m(\u001b[49m\u001b[43mlat\u001b[49m\u001b[43m,\u001b[49m\u001b[43m \u001b[49m\u001b[43mlon\u001b[49m\u001b[43m,\u001b[49m\u001b[43m \u001b[49m\u001b[43mf\u001b[49m\u001b[43m,\u001b[49m\u001b[43m \u001b[49m\u001b[43mel\u001b[49m\u001b[43m,\u001b[49m\u001b[43m \u001b[49m\u001b[43mp\u001b[49m\u001b[43m,\u001b[49m\u001b[43m \u001b[49m\u001b[43mD\u001b[49m\u001b[43m)\u001b[49m\n\u001b[0;32m     11\u001b[0m itur\u001b[38;5;241m.\u001b[39mplotting\u001b[38;5;241m.\u001b[39mplot_in_map(Att\u001b[38;5;241m.\u001b[39mvalue, lat, lon,\n\u001b[0;32m     12\u001b[0m                           cbar_text\u001b[38;5;241m=\u001b[39m\u001b[38;5;124m'\u001b[39m\u001b[38;5;124mAtmospheric attenuation [dB]\u001b[39m\u001b[38;5;124m'\u001b[39m)\n",
      "File \u001b[1;32mc:\\Users\\rayma\\anaconda3\\envs\\myPythonEnvClone_20240303\\lib\\site-packages\\itur\\__init__.py:236\u001b[0m, in \u001b[0;36matmospheric_attenuation_slant_path\u001b[1;34m(lat, lon, f, el, p, D, hs, rho, R001, eta, T, H, P, hL, Ls, tau, V_t, mode, return_contributions, include_rain, include_gas, include_scintillation, include_clouds)\u001b[0m\n\u001b[0;32m    233\u001b[0m     Ag \u001b[38;5;241m=\u001b[39m \u001b[38;5;241m0\u001b[39m \u001b[38;5;241m*\u001b[39m u\u001b[38;5;241m.\u001b[39mdB\n\u001b[0;32m    235\u001b[0m \u001b[38;5;28;01mif\u001b[39;00m include_clouds:\n\u001b[1;32m--> 236\u001b[0m     Ac \u001b[38;5;241m=\u001b[39m \u001b[43mcloud_attenuation\u001b[49m\u001b[43m(\u001b[49m\u001b[43mlat\u001b[49m\u001b[43m,\u001b[49m\u001b[43m \u001b[49m\u001b[43mlon\u001b[49m\u001b[43m,\u001b[49m\u001b[43m \u001b[49m\u001b[43mel\u001b[49m\u001b[43m,\u001b[49m\u001b[43m \u001b[49m\u001b[43mf\u001b[49m\u001b[43m,\u001b[49m\u001b[43m \u001b[49m\u001b[43mp_c_g\u001b[49m\u001b[43m)\u001b[49m\n\u001b[0;32m    237\u001b[0m \u001b[38;5;28;01melse\u001b[39;00m:\n\u001b[0;32m    238\u001b[0m     Ac \u001b[38;5;241m=\u001b[39m \u001b[38;5;241m0\u001b[39m \u001b[38;5;241m*\u001b[39m u\u001b[38;5;241m.\u001b[39mdB\n",
      "File \u001b[1;32mc:\\Users\\rayma\\anaconda3\\envs\\myPythonEnvClone_20240303\\lib\\site-packages\\itur\\models\\itu840.py:688\u001b[0m, in \u001b[0;36mcloud_attenuation\u001b[1;34m(lat, lon, el, f, p, Lred)\u001b[0m\n\u001b[0;32m    684\u001b[0m f \u001b[38;5;241m=\u001b[39m prepare_quantity(f, u\u001b[38;5;241m.\u001b[39mGHz, \u001b[38;5;124m'\u001b[39m\u001b[38;5;124mFrequency\u001b[39m\u001b[38;5;124m'\u001b[39m)\n\u001b[0;32m    685\u001b[0m Lred \u001b[38;5;241m=\u001b[39m prepare_quantity(\n\u001b[0;32m    686\u001b[0m     Lred, u\u001b[38;5;241m.\u001b[39mkg \u001b[38;5;241m/\u001b[39m u\u001b[38;5;241m.\u001b[39mm\u001b[38;5;241m*\u001b[39m\u001b[38;5;241m*\u001b[39m\u001b[38;5;241m2\u001b[39m,\n\u001b[0;32m    687\u001b[0m     \u001b[38;5;124m'\u001b[39m\u001b[38;5;124mTotal columnar contents of reduced cloud liquid water.\u001b[39m\u001b[38;5;124m'\u001b[39m)\n\u001b[1;32m--> 688\u001b[0m val \u001b[38;5;241m=\u001b[39m \u001b[43m__model\u001b[49m\u001b[38;5;241;43m.\u001b[39;49m\u001b[43mcloud_attenuation\u001b[49m\u001b[43m(\u001b[49m\u001b[43mlat\u001b[49m\u001b[43m,\u001b[49m\u001b[43m \u001b[49m\u001b[43mlon\u001b[49m\u001b[43m,\u001b[49m\u001b[43m \u001b[49m\u001b[43mel\u001b[49m\u001b[43m,\u001b[49m\u001b[43m \u001b[49m\u001b[43mf\u001b[49m\u001b[43m,\u001b[49m\u001b[43m \u001b[49m\u001b[43mp\u001b[49m\u001b[43m,\u001b[49m\u001b[43m \u001b[49m\u001b[43mLred\u001b[49m\u001b[43m)\u001b[49m\n\u001b[0;32m    690\u001b[0m \u001b[38;5;66;03m# The values of attenuation cannot be negative. The ITU models end up\u001b[39;00m\n\u001b[0;32m    691\u001b[0m \u001b[38;5;66;03m# giving out negative values for certain inputs\u001b[39;00m\n\u001b[0;32m    692\u001b[0m val[val \u001b[38;5;241m<\u001b[39m \u001b[38;5;241m0\u001b[39m] \u001b[38;5;241m=\u001b[39m \u001b[38;5;241m0\u001b[39m\n",
      "File \u001b[1;32mc:\\Users\\rayma\\anaconda3\\envs\\myPythonEnvClone_20240303\\lib\\site-packages\\itur\\models\\itu840.py:99\u001b[0m, in \u001b[0;36m__ITU840__.cloud_attenuation\u001b[1;34m(self, lat, lon, el, f, p, Lred)\u001b[0m\n\u001b[0;32m     97\u001b[0m Kl \u001b[38;5;241m=\u001b[39m \u001b[38;5;28mself\u001b[39m\u001b[38;5;241m.\u001b[39mspecific_attenuation_coefficients(f, T\u001b[38;5;241m=\u001b[39m\u001b[38;5;241m0\u001b[39m)\n\u001b[0;32m     98\u001b[0m \u001b[38;5;28;01mif\u001b[39;00m Lred \u001b[38;5;129;01mis\u001b[39;00m \u001b[38;5;28;01mNone\u001b[39;00m:\n\u001b[1;32m---> 99\u001b[0m     Lred \u001b[38;5;241m=\u001b[39m \u001b[38;5;28;43mself\u001b[39;49m\u001b[38;5;241;43m.\u001b[39;49m\u001b[43mcolumnar_content_reduced_liquid\u001b[49m\u001b[43m(\u001b[49m\u001b[43mlat\u001b[49m\u001b[43m,\u001b[49m\u001b[43m \u001b[49m\u001b[43mlon\u001b[49m\u001b[43m,\u001b[49m\u001b[43m \u001b[49m\u001b[43mp\u001b[49m\u001b[43m)\u001b[49m\n\u001b[0;32m    100\u001b[0m A \u001b[38;5;241m=\u001b[39m Lred \u001b[38;5;241m*\u001b[39m Kl \u001b[38;5;241m/\u001b[39m np\u001b[38;5;241m.\u001b[39msin(np\u001b[38;5;241m.\u001b[39mdeg2rad(el))\n\u001b[0;32m    102\u001b[0m \u001b[38;5;28;01mreturn\u001b[39;00m A\n",
      "File \u001b[1;32mc:\\Users\\rayma\\anaconda3\\envs\\myPythonEnvClone_20240303\\lib\\site-packages\\itur\\models\\itu840.py:93\u001b[0m, in \u001b[0;36m__ITU840__.columnar_content_reduced_liquid\u001b[1;34m(self, lat, lon, p)\u001b[0m\n\u001b[0;32m     89\u001b[0m \u001b[38;5;28;01mdef\u001b[39;00m \u001b[38;5;21mcolumnar_content_reduced_liquid\u001b[39m(\u001b[38;5;28mself\u001b[39m, lat, lon, p):\n\u001b[0;32m     90\u001b[0m     \u001b[38;5;66;03m# Abstract method to compute the columnar content of reduced liquid\u001b[39;00m\n\u001b[0;32m     91\u001b[0m     fcn \u001b[38;5;241m=\u001b[39m np\u001b[38;5;241m.\u001b[39mvectorize(__fcn_columnar_content_reduced_liquid__,\n\u001b[0;32m     92\u001b[0m                        excluded\u001b[38;5;241m=\u001b[39m[\u001b[38;5;241m0\u001b[39m, \u001b[38;5;241m1\u001b[39m, \u001b[38;5;241m2\u001b[39m], otypes\u001b[38;5;241m=\u001b[39m[np\u001b[38;5;241m.\u001b[39mndarray])\n\u001b[1;32m---> 93\u001b[0m     \u001b[38;5;28;01mreturn\u001b[39;00m np\u001b[38;5;241m.\u001b[39marray(\u001b[43mfcn\u001b[49m\u001b[43m(\u001b[49m\u001b[38;5;28;43mself\u001b[39;49m\u001b[38;5;241;43m.\u001b[39;49m\u001b[43minstance\u001b[49m\u001b[38;5;241;43m.\u001b[39;49m\u001b[43mLred\u001b[49m\u001b[43m,\u001b[49m\u001b[43m \u001b[49m\u001b[43mlat\u001b[49m\u001b[43m,\u001b[49m\u001b[43m \u001b[49m\u001b[43mlon\u001b[49m\u001b[43m,\u001b[49m\u001b[43m \u001b[49m\u001b[43mp\u001b[49m\u001b[43m)\u001b[49m\u001b[38;5;241m.\u001b[39mtolist())\n",
      "File \u001b[1;32mc:\\Users\\rayma\\anaconda3\\envs\\myPythonEnvClone_20240303\\lib\\site-packages\\numpy\\lib\\function_base.py:2329\u001b[0m, in \u001b[0;36mvectorize.__call__\u001b[1;34m(self, *args, **kwargs)\u001b[0m\n\u001b[0;32m   2326\u001b[0m     vargs \u001b[38;5;241m=\u001b[39m [args[_i] \u001b[38;5;28;01mfor\u001b[39;00m _i \u001b[38;5;129;01min\u001b[39;00m inds]\n\u001b[0;32m   2327\u001b[0m     vargs\u001b[38;5;241m.\u001b[39mextend([kwargs[_n] \u001b[38;5;28;01mfor\u001b[39;00m _n \u001b[38;5;129;01min\u001b[39;00m names])\n\u001b[1;32m-> 2329\u001b[0m \u001b[38;5;28;01mreturn\u001b[39;00m \u001b[38;5;28;43mself\u001b[39;49m\u001b[38;5;241;43m.\u001b[39;49m\u001b[43m_vectorize_call\u001b[49m\u001b[43m(\u001b[49m\u001b[43mfunc\u001b[49m\u001b[38;5;241;43m=\u001b[39;49m\u001b[43mfunc\u001b[49m\u001b[43m,\u001b[49m\u001b[43m \u001b[49m\u001b[43margs\u001b[49m\u001b[38;5;241;43m=\u001b[39;49m\u001b[43mvargs\u001b[49m\u001b[43m)\u001b[49m\n",
      "File \u001b[1;32mc:\\Users\\rayma\\anaconda3\\envs\\myPythonEnvClone_20240303\\lib\\site-packages\\numpy\\lib\\function_base.py:2412\u001b[0m, in \u001b[0;36mvectorize._vectorize_call\u001b[1;34m(self, func, args)\u001b[0m\n\u001b[0;32m   2409\u001b[0m \u001b[38;5;66;03m# Convert args to object arrays first\u001b[39;00m\n\u001b[0;32m   2410\u001b[0m inputs \u001b[38;5;241m=\u001b[39m [asanyarray(a, dtype\u001b[38;5;241m=\u001b[39m\u001b[38;5;28mobject\u001b[39m) \u001b[38;5;28;01mfor\u001b[39;00m a \u001b[38;5;129;01min\u001b[39;00m args]\n\u001b[1;32m-> 2412\u001b[0m outputs \u001b[38;5;241m=\u001b[39m \u001b[43mufunc\u001b[49m\u001b[43m(\u001b[49m\u001b[38;5;241;43m*\u001b[39;49m\u001b[43minputs\u001b[49m\u001b[43m)\u001b[49m\n\u001b[0;32m   2414\u001b[0m \u001b[38;5;28;01mif\u001b[39;00m ufunc\u001b[38;5;241m.\u001b[39mnout \u001b[38;5;241m==\u001b[39m \u001b[38;5;241m1\u001b[39m:\n\u001b[0;32m   2415\u001b[0m     res \u001b[38;5;241m=\u001b[39m asanyarray(outputs, dtype\u001b[38;5;241m=\u001b[39motypes[\u001b[38;5;241m0\u001b[39m])\n",
      "File \u001b[1;32mc:\\Users\\rayma\\anaconda3\\envs\\myPythonEnvClone_20240303\\lib\\site-packages\\numpy\\lib\\function_base.py:2324\u001b[0m, in \u001b[0;36mvectorize.__call__.<locals>.func\u001b[1;34m(*vargs)\u001b[0m\n\u001b[0;32m   2322\u001b[0m     the_args[_i] \u001b[38;5;241m=\u001b[39m vargs[_n]\n\u001b[0;32m   2323\u001b[0m kwargs\u001b[38;5;241m.\u001b[39mupdate(\u001b[38;5;28mzip\u001b[39m(names, vargs[\u001b[38;5;28mlen\u001b[39m(inds):]))\n\u001b[1;32m-> 2324\u001b[0m \u001b[38;5;28;01mreturn\u001b[39;00m \u001b[38;5;28mself\u001b[39m\u001b[38;5;241m.\u001b[39mpyfunc(\u001b[38;5;241m*\u001b[39mthe_args, \u001b[38;5;241m*\u001b[39m\u001b[38;5;241m*\u001b[39mkwargs)\n",
      "File \u001b[1;32mc:\\Users\\rayma\\anaconda3\\envs\\myPythonEnvClone_20240303\\lib\\site-packages\\itur\\models\\itu840.py:34\u001b[0m, in \u001b[0;36m__fcn_columnar_content_reduced_liquid__\u001b[1;34m(Lred, lat, lon, p)\u001b[0m\n\u001b[0;32m     31\u001b[0m     p_above \u001b[38;5;241m=\u001b[39m available_p[idx \u001b[38;5;241m+\u001b[39m \u001b[38;5;241m1\u001b[39m]\n\u001b[0;32m     33\u001b[0m \u001b[38;5;66;03m# Compute the values of Lred_a\u001b[39;00m\n\u001b[1;32m---> 34\u001b[0m Lred_a \u001b[38;5;241m=\u001b[39m \u001b[43mLred\u001b[49m\u001b[43m(\u001b[49m\u001b[43mlat\u001b[49m\u001b[43m,\u001b[49m\u001b[43m \u001b[49m\u001b[43mlon\u001b[49m\u001b[43m,\u001b[49m\u001b[43m \u001b[49m\u001b[43mp_above\u001b[49m\u001b[43m)\u001b[49m\n\u001b[0;32m     35\u001b[0m \u001b[38;5;28;01mif\u001b[39;00m \u001b[38;5;129;01mnot\u001b[39;00m pExact:\n\u001b[0;32m     36\u001b[0m     Lred_b \u001b[38;5;241m=\u001b[39m Lred(lat, lon, p_below)\n",
      "File \u001b[1;32mc:\\Users\\rayma\\anaconda3\\envs\\myPythonEnvClone_20240303\\lib\\site-packages\\itur\\models\\itu840.py:132\u001b[0m, in \u001b[0;36m_ITU840_8_.Lred\u001b[1;34m(self, lat, lon, p)\u001b[0m\n\u001b[0;32m    130\u001b[0m     d_dir \u001b[38;5;241m=\u001b[39m os\u001b[38;5;241m.\u001b[39mpath\u001b[38;5;241m.\u001b[39mjoin(dataset_dir, \u001b[38;5;124m'\u001b[39m\u001b[38;5;124m840/v8_lred_\u001b[39m\u001b[38;5;132;01m%s\u001b[39;00m\u001b[38;5;124m.npz\u001b[39m\u001b[38;5;124m'\u001b[39m)\n\u001b[0;32m    131\u001b[0m     \u001b[38;5;28;01mfor\u001b[39;00m p_load \u001b[38;5;129;01min\u001b[39;00m ps:\n\u001b[1;32m--> 132\u001b[0m         \u001b[38;5;28mself\u001b[39m\u001b[38;5;241m.\u001b[39m_Lred[\u001b[38;5;28mfloat\u001b[39m(p_load)] \u001b[38;5;241m=\u001b[39m \u001b[43mload_data_interpolator\u001b[49m\u001b[43m(\u001b[49m\n\u001b[0;32m    133\u001b[0m \u001b[43m            \u001b[49m\u001b[38;5;124;43m'\u001b[39;49m\u001b[38;5;124;43m840/v8_lat.npz\u001b[39;49m\u001b[38;5;124;43m'\u001b[39;49m\u001b[43m,\u001b[49m\u001b[43m \u001b[49m\u001b[38;5;124;43m'\u001b[39;49m\u001b[38;5;124;43m840/v8_lon.npz\u001b[39;49m\u001b[38;5;124;43m'\u001b[39;49m\u001b[43m,\u001b[49m\n\u001b[0;32m    134\u001b[0m \u001b[43m            \u001b[49m\u001b[43md_dir\u001b[49m\u001b[43m \u001b[49m\u001b[38;5;241;43m%\u001b[39;49m\u001b[43m \u001b[49m\u001b[43m(\u001b[49m\u001b[38;5;28;43mstr\u001b[39;49m\u001b[43m(\u001b[49m\u001b[43mp_load\u001b[49m\u001b[43m)\u001b[49m\u001b[38;5;241;43m.\u001b[39;49m\u001b[43mreplace\u001b[49m\u001b[43m(\u001b[49m\u001b[38;5;124;43m'\u001b[39;49m\u001b[38;5;124;43m.\u001b[39;49m\u001b[38;5;124;43m'\u001b[39;49m\u001b[43m,\u001b[49m\u001b[43m \u001b[49m\u001b[38;5;124;43m'\u001b[39;49m\u001b[38;5;124;43m'\u001b[39;49m\u001b[43m)\u001b[49m\u001b[43m)\u001b[49m\u001b[43m,\u001b[49m\n\u001b[0;32m    135\u001b[0m \u001b[43m            \u001b[49m\u001b[43mbilinear_2D_interpolator\u001b[49m\u001b[43m,\u001b[49m\u001b[43m \u001b[49m\u001b[43mflip_ud\u001b[49m\u001b[38;5;241;43m=\u001b[39;49m\u001b[38;5;28;43;01mFalse\u001b[39;49;00m\u001b[43m)\u001b[49m\n\u001b[0;32m    137\u001b[0m \u001b[38;5;28;01mreturn\u001b[39;00m \u001b[38;5;28mself\u001b[39m\u001b[38;5;241m.\u001b[39m_Lred[\u001b[38;5;28mfloat\u001b[39m(p)](\n\u001b[0;32m    138\u001b[0m     np\u001b[38;5;241m.\u001b[39marray([lat\u001b[38;5;241m.\u001b[39mravel(), lon\u001b[38;5;241m.\u001b[39mravel()])\u001b[38;5;241m.\u001b[39mT)\u001b[38;5;241m.\u001b[39mreshape(lat\u001b[38;5;241m.\u001b[39mshape)\n",
      "File \u001b[1;32mc:\\Users\\rayma\\anaconda3\\envs\\myPythonEnvClone_20240303\\lib\\site-packages\\itur\\utils.py:73\u001b[0m, in \u001b[0;36mload_data_interpolator\u001b[1;34m(path_lat, path_lon, path_data, interp_fcn, flip_ud)\u001b[0m\n\u001b[0;32m     71\u001b[0m     \u001b[38;5;28;01mreturn\u001b[39;00m interp_fcn(np\u001b[38;5;241m.\u001b[39mflipud(lats), lons, np\u001b[38;5;241m.\u001b[39mflipud(vals))\n\u001b[0;32m     72\u001b[0m \u001b[38;5;28;01melse\u001b[39;00m:\n\u001b[1;32m---> 73\u001b[0m     \u001b[38;5;28;01mreturn\u001b[39;00m \u001b[43minterp_fcn\u001b[49m\u001b[43m(\u001b[49m\u001b[43mlats\u001b[49m\u001b[43m,\u001b[49m\u001b[43m \u001b[49m\u001b[43mlons\u001b[49m\u001b[43m,\u001b[49m\u001b[43m \u001b[49m\u001b[43mvals\u001b[49m\u001b[43m)\u001b[49m\n",
      "File \u001b[1;32mc:\\Users\\rayma\\anaconda3\\envs\\myPythonEnvClone_20240303\\lib\\site-packages\\itur\\models\\itu1144.py:151\u001b[0m, in \u001b[0;36mbilinear_2D_interpolator\u001b[1;34m(lats_o, lons_o, values)\u001b[0m\n\u001b[0;32m    121\u001b[0m \u001b[38;5;28;01mdef\u001b[39;00m \u001b[38;5;21mbilinear_2D_interpolator\u001b[39m(lats_o, lons_o, values):\n\u001b[0;32m    122\u001b[0m \u001b[38;5;250m    \u001b[39m\u001b[38;5;124;03m\"\"\"\u001b[39;00m\n\u001b[0;32m    123\u001b[0m \u001b[38;5;124;03m    Produces a 2D interpolator function using the bilinear interpolation\u001b[39;00m\n\u001b[0;32m    124\u001b[0m \u001b[38;5;124;03m    method. If the grids are regular grids, uses the\u001b[39;00m\n\u001b[1;32m   (...)\u001b[0m\n\u001b[0;32m    149\u001b[0m \u001b[38;5;124;03m        Bilinear interpolator function\u001b[39;00m\n\u001b[0;32m    150\u001b[0m \u001b[38;5;124;03m    \"\"\"\u001b[39;00m\n\u001b[1;32m--> 151\u001b[0m     \u001b[38;5;28;01mif\u001b[39;00m is_regular_grid(\u001b[43mlats_o\u001b[49m\u001b[43m[\u001b[49m\u001b[38;5;241;43m2\u001b[39;49m\u001b[43m:\u001b[49m\u001b[38;5;241;43m-\u001b[39;49m\u001b[38;5;241;43m2\u001b[39;49m\u001b[43m,\u001b[49m\u001b[43m \u001b[49m\u001b[38;5;241;43m2\u001b[39;49m\u001b[43m:\u001b[49m\u001b[38;5;241;43m-\u001b[39;49m\u001b[38;5;241;43m2\u001b[39;49m\u001b[43m]\u001b[49m, lons_o[\u001b[38;5;241m2\u001b[39m:\u001b[38;5;241m-\u001b[39m\u001b[38;5;241m2\u001b[39m, \u001b[38;5;241m2\u001b[39m:\u001b[38;5;241m-\u001b[39m\u001b[38;5;241m2\u001b[39m]):\n\u001b[0;32m    152\u001b[0m         \u001b[38;5;28;01mreturn\u001b[39;00m _bilinear_2D_interpolator_reg(lats_o, lons_o, values)\n\u001b[0;32m    153\u001b[0m     \u001b[38;5;28;01melse\u001b[39;00m:\n",
      "\u001b[1;31mIndexError\u001b[0m: too many indices for array: array is 1-dimensional, but 2 were indexed"
     ]
    }
   ],
   "source": [
    "f = 21.0 * itur.u.GHz    # Link frequency\n",
    "D = 1 * itur.u.m         # Size of the receiver antenna\n",
    "el = 10                  # Elevation angle constant [degrees]\n",
    "p = 5                    # Percentage of time that attenuation values are exceeded.\n",
    "\n",
    "# Generate a regular grid latitude and longitude points with 1 degrees resolution\n",
    "lat, lon = itur.utils.regular_lat_lon_grid()\n",
    "\n",
    "# Comute the atmospheric attenuation\n",
    "Att = itur.atmospheric_attenuation_slant_path(lat, lon, f, el, p, D)\n",
    "itur.plotting.plot_in_map(Att.value, lat, lon,\n",
    "                          cbar_text='Atmospheric attenuation [dB]')"
   ]
  }
 ],
 "metadata": {
  "kernelspec": {
   "display_name": "ITUR_venv",
   "language": "python",
   "name": "python3"
  },
  "language_info": {
   "codemirror_mode": {
    "name": "ipython",
    "version": 3
   },
   "file_extension": ".py",
   "mimetype": "text/x-python",
   "name": "python",
   "nbconvert_exporter": "python",
   "pygments_lexer": "ipython3",
   "version": "3.9.17"
  }
 },
 "nbformat": 4,
 "nbformat_minor": 2
}
